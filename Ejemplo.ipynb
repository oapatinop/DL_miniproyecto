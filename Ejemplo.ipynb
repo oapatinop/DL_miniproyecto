{
 "cells": [
  {
   "cell_type": "markdown",
   "metadata": {
    "id": "BVvKxRodkS-T"
   },
   "source": [
    "![image info](https://raw.githubusercontent.com/albahnsen/MIAD_ML_and_NLP/main/images/banner_1.png)"
   ]
  },
  {
   "cell_type": "markdown",
   "metadata": {
    "id": "6wZmeQzHkS-2"
   },
   "source": [
    "# Proyecto 2 - Clasificación de género de películas\n",
    "\n",
    "El propósito de este proyecto es que puedan poner en práctica, en sus respectivos grupos de trabajo, sus conocimientos sobre técnicas de preprocesamiento, modelos predictivos de NLP, y la disponibilización de modelos. Para su desarrollo tengan en cuenta las instrucciones dadas en la \"Guía del proyecto 2: Clasificación de género de películas\"\n",
    "\n",
    "**Entrega**: La entrega del proyecto deberán realizarla durante la semana 8. Sin embargo, es importante que avancen en la semana 7 en el modelado del problema y en parte del informe, tal y como se les indicó en la guía.\n",
    "\n",
    "Para hacer la entrega, deberán adjuntar el informe autocontenido en PDF a la actividad de entrega del proyecto que encontrarán en la semana 8, y subir el archivo de predicciones a la [competencia de Kaggle](https://www.kaggle.com/t/2c54d005f76747fe83f77fbf8b3ec232)."
   ]
  },
  {
   "cell_type": "markdown",
   "metadata": {
    "id": "50r1kx8MkS--"
   },
   "source": [
    "## Datos para la predicción de género en películas"
   ]
  },
  {
   "cell_type": "markdown",
   "metadata": {
    "id": "KSylaZIVkS_A"
   },
   "source": [
    "![image info](https://raw.githubusercontent.com/albahnsen/MIAD_ML_and_NLP/main/images/moviegenre.png)"
   ]
  },
  {
   "cell_type": "markdown",
   "metadata": {
    "id": "pvC4N6wGkTE6"
   },
   "source": [
    "En este proyecto se usará un conjunto de datos de géneros de películas. Cada observación contiene el título de una película, su año de lanzamiento, la sinopsis o plot de la película (resumen de la trama) y los géneros a los que pertenece (una película puede pertenercer a más de un género). Por ejemplo:\n",
    "- Título: 'How to Be a Serial Killer'\n",
    "- Plot: 'A serial killer decides to teach the secrets of his satisfying career to a video store clerk.'\n",
    "- Generos: 'Comedy', 'Crime', 'Horror'\n",
    "\n",
    "La idea es que usen estos datos para predecir la probabilidad de que una película pertenezca, dada la sinopsis, a cada uno de los géneros."
   ]
  },
  {
   "cell_type": "markdown",
   "metadata": {
    "id": "2w12P1TRkTE_"
   },
   "source": [
    "Agradecemos al profesor Fabio González, Ph.D. y a su alumno John Arevalo por proporcionar este conjunto de datos. Ver https://arxiv.org/abs/1702.01992"
   ]
  },
  {
   "cell_type": "markdown",
   "metadata": {
    "id": "NoyyygZJkTFG"
   },
   "source": [
    "## Ejemplo predicción conjunto de test para envío a Kaggle\n",
    "En esta sección encontrarán el formato en el que deben guardar los resultados de la predicción para que puedan subirlos a la competencia en Kaggle."
   ]
  },
  {
   "cell_type": "code",
   "execution_count": 1,
   "metadata": {
    "executionInfo": {
     "elapsed": 9,
     "status": "ok",
     "timestamp": 1685108360336,
     "user": {
      "displayName": "Oscar Andres Patino Patarroyo",
      "userId": "14256463387961091998"
     },
     "user_tz": 300
    },
    "id": "xrGxtcGXkTFI"
   },
   "outputs": [],
   "source": [
    "import warnings\n",
    "warnings.filterwarnings('ignore')"
   ]
  },
  {
   "cell_type": "code",
   "execution_count": 2,
   "metadata": {
    "executionInfo": {
     "elapsed": 2880,
     "status": "ok",
     "timestamp": 1685108363210,
     "user": {
      "displayName": "Oscar Andres Patino Patarroyo",
      "userId": "14256463387961091998"
     },
     "user_tz": 300
    },
    "id": "GtJPmV1-kTFM"
   },
   "outputs": [],
   "source": [
    "# Importación librerías\n",
    "import pandas as pd\n",
    "import os\n",
    "import numpy as np\n",
    "import matplotlib.pyplot as plt\n",
    "from sklearn.feature_extraction.text import CountVectorizer, TfidfVectorizer\n",
    "from sklearn.preprocessing import MultiLabelBinarizer\n",
    "from sklearn.multiclass import OneVsRestClassifier\n",
    "from sklearn.ensemble import RandomForestRegressor, RandomForestClassifier\n",
    "from sklearn import metrics\n",
    "from sklearn.metrics import r2_score, roc_auc_score\n",
    "from sklearn.model_selection import cross_val_score\n",
    "from sklearn.model_selection import GridSearchCV\n",
    "from sklearn.model_selection import RandomizedSearchCV\n",
    "from sklearn.model_selection import train_test_split\n",
    "from xgboost import XGBClassifier\n",
    "from nltk.stem import WordNetLemmatizer"
   ]
  },
  {
   "cell_type": "code",
   "execution_count": 3,
   "metadata": {
    "colab": {
     "base_uri": "https://localhost:8080/"
    },
    "executionInfo": {
     "elapsed": 11,
     "status": "ok",
     "timestamp": 1685108363211,
     "user": {
      "displayName": "Oscar Andres Patino Patarroyo",
      "userId": "14256463387961091998"
     },
     "user_tz": 300
    },
    "id": "azMkl1hfkTFS",
    "outputId": "d86f07a2-4745-4a02-fe2b-695940849179"
   },
   "outputs": [
    {
     "name": "stderr",
     "output_type": "stream",
     "text": [
      "[nltk_data] Downloading package wordnet to /root/nltk_data...\n"
     ]
    },
    {
     "data": {
      "text/plain": [
       "True"
      ]
     },
     "execution_count": 3,
     "metadata": {},
     "output_type": "execute_result"
    }
   ],
   "source": [
    "import nltk\n",
    "nltk.download('wordnet')\n",
    "#nltk.download('all')"
   ]
  },
  {
   "cell_type": "code",
   "execution_count": 4,
   "metadata": {
    "executionInfo": {
     "elapsed": 2367,
     "status": "ok",
     "timestamp": 1685108365573,
     "user": {
      "displayName": "Oscar Andres Patino Patarroyo",
      "userId": "14256463387961091998"
     },
     "user_tz": 300
    },
    "id": "4xrgLoU2kTFX"
   },
   "outputs": [],
   "source": [
    "# Carga de datos de archivo .csv\n",
    "dataTraining = pd.read_csv('https://github.com/albahnsen/MIAD_ML_and_NLP/raw/main/datasets/dataTraining.zip', encoding='UTF-8', index_col=0)\n",
    "dataTesting = pd.read_csv('https://github.com/albahnsen/MIAD_ML_and_NLP/raw/main/datasets/dataTesting.zip', encoding='UTF-8', index_col=0)\n",
    "#PATH = \"G:/Mi unidad/Cursos/Maestria MIAD/2.2_Machine Learning y Procesamiento de Lenguaje Natural/Proyecto 2/\"\n",
    "#dataTraining = pd.read_csv(PATH+\"dataTraining.zip\", encoding='UTF-8', index_col=0)\n",
    "#dataTesting = pd.read_csv(PATH+\"dataTesting-1.zip\", encoding='UTF-8', index_col=0)"
   ]
  },
  {
   "cell_type": "code",
   "execution_count": 5,
   "metadata": {
    "colab": {
     "base_uri": "https://localhost:8080/",
     "height": 206
    },
    "executionInfo": {
     "elapsed": 11,
     "status": "ok",
     "timestamp": 1685108365574,
     "user": {
      "displayName": "Oscar Andres Patino Patarroyo",
      "userId": "14256463387961091998"
     },
     "user_tz": 300
    },
    "id": "-fx3WihpkTFZ",
    "outputId": "6df3d7fb-fb52-481c-8b8d-ef5353b7a955"
   },
   "outputs": [
    {
     "data": {
      "text/html": [
       "\n",
       "  <div id=\"df-88a2dcc3-685c-4bb0-b9e1-e0157f1a6a77\">\n",
       "    <div class=\"colab-df-container\">\n",
       "      <div>\n",
       "<style scoped>\n",
       "    .dataframe tbody tr th:only-of-type {\n",
       "        vertical-align: middle;\n",
       "    }\n",
       "\n",
       "    .dataframe tbody tr th {\n",
       "        vertical-align: top;\n",
       "    }\n",
       "\n",
       "    .dataframe thead th {\n",
       "        text-align: right;\n",
       "    }\n",
       "</style>\n",
       "<table border=\"1\" class=\"dataframe\">\n",
       "  <thead>\n",
       "    <tr style=\"text-align: right;\">\n",
       "      <th></th>\n",
       "      <th>year</th>\n",
       "      <th>title</th>\n",
       "      <th>plot</th>\n",
       "      <th>genres</th>\n",
       "      <th>rating</th>\n",
       "    </tr>\n",
       "  </thead>\n",
       "  <tbody>\n",
       "    <tr>\n",
       "      <th>3107</th>\n",
       "      <td>2003</td>\n",
       "      <td>Most</td>\n",
       "      <td>most is the story of a single father who takes...</td>\n",
       "      <td>['Short', 'Drama']</td>\n",
       "      <td>8.0</td>\n",
       "    </tr>\n",
       "    <tr>\n",
       "      <th>900</th>\n",
       "      <td>2008</td>\n",
       "      <td>How to Be a Serial Killer</td>\n",
       "      <td>a serial killer decides to teach the secrets o...</td>\n",
       "      <td>['Comedy', 'Crime', 'Horror']</td>\n",
       "      <td>5.6</td>\n",
       "    </tr>\n",
       "    <tr>\n",
       "      <th>6724</th>\n",
       "      <td>1941</td>\n",
       "      <td>A Woman's Face</td>\n",
       "      <td>in sweden ,  a female blackmailer with a disfi...</td>\n",
       "      <td>['Drama', 'Film-Noir', 'Thriller']</td>\n",
       "      <td>7.2</td>\n",
       "    </tr>\n",
       "    <tr>\n",
       "      <th>4704</th>\n",
       "      <td>1954</td>\n",
       "      <td>Executive Suite</td>\n",
       "      <td>in a friday afternoon in new york ,  the presi...</td>\n",
       "      <td>['Drama']</td>\n",
       "      <td>7.4</td>\n",
       "    </tr>\n",
       "    <tr>\n",
       "      <th>2582</th>\n",
       "      <td>1990</td>\n",
       "      <td>Narrow Margin</td>\n",
       "      <td>in los angeles ,  the editor of a publishing h...</td>\n",
       "      <td>['Action', 'Crime', 'Thriller']</td>\n",
       "      <td>6.6</td>\n",
       "    </tr>\n",
       "  </tbody>\n",
       "</table>\n",
       "</div>\n",
       "      <button class=\"colab-df-convert\" onclick=\"convertToInteractive('df-88a2dcc3-685c-4bb0-b9e1-e0157f1a6a77')\"\n",
       "              title=\"Convert this dataframe to an interactive table.\"\n",
       "              style=\"display:none;\">\n",
       "        \n",
       "  <svg xmlns=\"http://www.w3.org/2000/svg\" height=\"24px\"viewBox=\"0 0 24 24\"\n",
       "       width=\"24px\">\n",
       "    <path d=\"M0 0h24v24H0V0z\" fill=\"none\"/>\n",
       "    <path d=\"M18.56 5.44l.94 2.06.94-2.06 2.06-.94-2.06-.94-.94-2.06-.94 2.06-2.06.94zm-11 1L8.5 8.5l.94-2.06 2.06-.94-2.06-.94L8.5 2.5l-.94 2.06-2.06.94zm10 10l.94 2.06.94-2.06 2.06-.94-2.06-.94-.94-2.06-.94 2.06-2.06.94z\"/><path d=\"M17.41 7.96l-1.37-1.37c-.4-.4-.92-.59-1.43-.59-.52 0-1.04.2-1.43.59L10.3 9.45l-7.72 7.72c-.78.78-.78 2.05 0 2.83L4 21.41c.39.39.9.59 1.41.59.51 0 1.02-.2 1.41-.59l7.78-7.78 2.81-2.81c.8-.78.8-2.07 0-2.86zM5.41 20L4 18.59l7.72-7.72 1.47 1.35L5.41 20z\"/>\n",
       "  </svg>\n",
       "      </button>\n",
       "      \n",
       "  <style>\n",
       "    .colab-df-container {\n",
       "      display:flex;\n",
       "      flex-wrap:wrap;\n",
       "      gap: 12px;\n",
       "    }\n",
       "\n",
       "    .colab-df-convert {\n",
       "      background-color: #E8F0FE;\n",
       "      border: none;\n",
       "      border-radius: 50%;\n",
       "      cursor: pointer;\n",
       "      display: none;\n",
       "      fill: #1967D2;\n",
       "      height: 32px;\n",
       "      padding: 0 0 0 0;\n",
       "      width: 32px;\n",
       "    }\n",
       "\n",
       "    .colab-df-convert:hover {\n",
       "      background-color: #E2EBFA;\n",
       "      box-shadow: 0px 1px 2px rgba(60, 64, 67, 0.3), 0px 1px 3px 1px rgba(60, 64, 67, 0.15);\n",
       "      fill: #174EA6;\n",
       "    }\n",
       "\n",
       "    [theme=dark] .colab-df-convert {\n",
       "      background-color: #3B4455;\n",
       "      fill: #D2E3FC;\n",
       "    }\n",
       "\n",
       "    [theme=dark] .colab-df-convert:hover {\n",
       "      background-color: #434B5C;\n",
       "      box-shadow: 0px 1px 3px 1px rgba(0, 0, 0, 0.15);\n",
       "      filter: drop-shadow(0px 1px 2px rgba(0, 0, 0, 0.3));\n",
       "      fill: #FFFFFF;\n",
       "    }\n",
       "  </style>\n",
       "\n",
       "      <script>\n",
       "        const buttonEl =\n",
       "          document.querySelector('#df-88a2dcc3-685c-4bb0-b9e1-e0157f1a6a77 button.colab-df-convert');\n",
       "        buttonEl.style.display =\n",
       "          google.colab.kernel.accessAllowed ? 'block' : 'none';\n",
       "\n",
       "        async function convertToInteractive(key) {\n",
       "          const element = document.querySelector('#df-88a2dcc3-685c-4bb0-b9e1-e0157f1a6a77');\n",
       "          const dataTable =\n",
       "            await google.colab.kernel.invokeFunction('convertToInteractive',\n",
       "                                                     [key], {});\n",
       "          if (!dataTable) return;\n",
       "\n",
       "          const docLinkHtml = 'Like what you see? Visit the ' +\n",
       "            '<a target=\"_blank\" href=https://colab.research.google.com/notebooks/data_table.ipynb>data table notebook</a>'\n",
       "            + ' to learn more about interactive tables.';\n",
       "          element.innerHTML = '';\n",
       "          dataTable['output_type'] = 'display_data';\n",
       "          await google.colab.output.renderOutput(dataTable, element);\n",
       "          const docLink = document.createElement('div');\n",
       "          docLink.innerHTML = docLinkHtml;\n",
       "          element.appendChild(docLink);\n",
       "        }\n",
       "      </script>\n",
       "    </div>\n",
       "  </div>\n",
       "  "
      ],
      "text/plain": [
       "      year                      title  \\\n",
       "3107  2003                       Most   \n",
       "900   2008  How to Be a Serial Killer   \n",
       "6724  1941             A Woman's Face   \n",
       "4704  1954            Executive Suite   \n",
       "2582  1990              Narrow Margin   \n",
       "\n",
       "                                                   plot  \\\n",
       "3107  most is the story of a single father who takes...   \n",
       "900   a serial killer decides to teach the secrets o...   \n",
       "6724  in sweden ,  a female blackmailer with a disfi...   \n",
       "4704  in a friday afternoon in new york ,  the presi...   \n",
       "2582  in los angeles ,  the editor of a publishing h...   \n",
       "\n",
       "                                  genres  rating  \n",
       "3107                  ['Short', 'Drama']     8.0  \n",
       "900        ['Comedy', 'Crime', 'Horror']     5.6  \n",
       "6724  ['Drama', 'Film-Noir', 'Thriller']     7.2  \n",
       "4704                           ['Drama']     7.4  \n",
       "2582     ['Action', 'Crime', 'Thriller']     6.6  "
      ]
     },
     "execution_count": 5,
     "metadata": {},
     "output_type": "execute_result"
    }
   ],
   "source": [
    "# Visualización datos de entrenamiento\n",
    "dataTraining.head()"
   ]
  },
  {
   "cell_type": "code",
   "execution_count": 6,
   "metadata": {
    "colab": {
     "base_uri": "https://localhost:8080/",
     "height": 206
    },
    "executionInfo": {
     "elapsed": 11,
     "status": "ok",
     "timestamp": 1685108365575,
     "user": {
      "displayName": "Oscar Andres Patino Patarroyo",
      "userId": "14256463387961091998"
     },
     "user_tz": 300
    },
    "id": "kKp_kKH-kTFa",
    "outputId": "c3e409d8-64aa-4027-f3c1-84bad9b5d80e"
   },
   "outputs": [
    {
     "data": {
      "text/html": [
       "\n",
       "  <div id=\"df-8f7cd596-4081-4604-ad00-af02a135b3f0\">\n",
       "    <div class=\"colab-df-container\">\n",
       "      <div>\n",
       "<style scoped>\n",
       "    .dataframe tbody tr th:only-of-type {\n",
       "        vertical-align: middle;\n",
       "    }\n",
       "\n",
       "    .dataframe tbody tr th {\n",
       "        vertical-align: top;\n",
       "    }\n",
       "\n",
       "    .dataframe thead th {\n",
       "        text-align: right;\n",
       "    }\n",
       "</style>\n",
       "<table border=\"1\" class=\"dataframe\">\n",
       "  <thead>\n",
       "    <tr style=\"text-align: right;\">\n",
       "      <th></th>\n",
       "      <th>year</th>\n",
       "      <th>title</th>\n",
       "      <th>plot</th>\n",
       "    </tr>\n",
       "  </thead>\n",
       "  <tbody>\n",
       "    <tr>\n",
       "      <th>1</th>\n",
       "      <td>1999</td>\n",
       "      <td>Message in a Bottle</td>\n",
       "      <td>who meets by fate ,  shall be sealed by fate ....</td>\n",
       "    </tr>\n",
       "    <tr>\n",
       "      <th>4</th>\n",
       "      <td>1978</td>\n",
       "      <td>Midnight Express</td>\n",
       "      <td>the true story of billy hayes ,  an american c...</td>\n",
       "    </tr>\n",
       "    <tr>\n",
       "      <th>5</th>\n",
       "      <td>1996</td>\n",
       "      <td>Primal Fear</td>\n",
       "      <td>martin vail left the chicago da ' s office to ...</td>\n",
       "    </tr>\n",
       "    <tr>\n",
       "      <th>6</th>\n",
       "      <td>1950</td>\n",
       "      <td>Crisis</td>\n",
       "      <td>husband and wife americans dr .  eugene and mr...</td>\n",
       "    </tr>\n",
       "    <tr>\n",
       "      <th>7</th>\n",
       "      <td>1959</td>\n",
       "      <td>The Tingler</td>\n",
       "      <td>the coroner and scientist dr .  warren chapin ...</td>\n",
       "    </tr>\n",
       "  </tbody>\n",
       "</table>\n",
       "</div>\n",
       "      <button class=\"colab-df-convert\" onclick=\"convertToInteractive('df-8f7cd596-4081-4604-ad00-af02a135b3f0')\"\n",
       "              title=\"Convert this dataframe to an interactive table.\"\n",
       "              style=\"display:none;\">\n",
       "        \n",
       "  <svg xmlns=\"http://www.w3.org/2000/svg\" height=\"24px\"viewBox=\"0 0 24 24\"\n",
       "       width=\"24px\">\n",
       "    <path d=\"M0 0h24v24H0V0z\" fill=\"none\"/>\n",
       "    <path d=\"M18.56 5.44l.94 2.06.94-2.06 2.06-.94-2.06-.94-.94-2.06-.94 2.06-2.06.94zm-11 1L8.5 8.5l.94-2.06 2.06-.94-2.06-.94L8.5 2.5l-.94 2.06-2.06.94zm10 10l.94 2.06.94-2.06 2.06-.94-2.06-.94-.94-2.06-.94 2.06-2.06.94z\"/><path d=\"M17.41 7.96l-1.37-1.37c-.4-.4-.92-.59-1.43-.59-.52 0-1.04.2-1.43.59L10.3 9.45l-7.72 7.72c-.78.78-.78 2.05 0 2.83L4 21.41c.39.39.9.59 1.41.59.51 0 1.02-.2 1.41-.59l7.78-7.78 2.81-2.81c.8-.78.8-2.07 0-2.86zM5.41 20L4 18.59l7.72-7.72 1.47 1.35L5.41 20z\"/>\n",
       "  </svg>\n",
       "      </button>\n",
       "      \n",
       "  <style>\n",
       "    .colab-df-container {\n",
       "      display:flex;\n",
       "      flex-wrap:wrap;\n",
       "      gap: 12px;\n",
       "    }\n",
       "\n",
       "    .colab-df-convert {\n",
       "      background-color: #E8F0FE;\n",
       "      border: none;\n",
       "      border-radius: 50%;\n",
       "      cursor: pointer;\n",
       "      display: none;\n",
       "      fill: #1967D2;\n",
       "      height: 32px;\n",
       "      padding: 0 0 0 0;\n",
       "      width: 32px;\n",
       "    }\n",
       "\n",
       "    .colab-df-convert:hover {\n",
       "      background-color: #E2EBFA;\n",
       "      box-shadow: 0px 1px 2px rgba(60, 64, 67, 0.3), 0px 1px 3px 1px rgba(60, 64, 67, 0.15);\n",
       "      fill: #174EA6;\n",
       "    }\n",
       "\n",
       "    [theme=dark] .colab-df-convert {\n",
       "      background-color: #3B4455;\n",
       "      fill: #D2E3FC;\n",
       "    }\n",
       "\n",
       "    [theme=dark] .colab-df-convert:hover {\n",
       "      background-color: #434B5C;\n",
       "      box-shadow: 0px 1px 3px 1px rgba(0, 0, 0, 0.15);\n",
       "      filter: drop-shadow(0px 1px 2px rgba(0, 0, 0, 0.3));\n",
       "      fill: #FFFFFF;\n",
       "    }\n",
       "  </style>\n",
       "\n",
       "      <script>\n",
       "        const buttonEl =\n",
       "          document.querySelector('#df-8f7cd596-4081-4604-ad00-af02a135b3f0 button.colab-df-convert');\n",
       "        buttonEl.style.display =\n",
       "          google.colab.kernel.accessAllowed ? 'block' : 'none';\n",
       "\n",
       "        async function convertToInteractive(key) {\n",
       "          const element = document.querySelector('#df-8f7cd596-4081-4604-ad00-af02a135b3f0');\n",
       "          const dataTable =\n",
       "            await google.colab.kernel.invokeFunction('convertToInteractive',\n",
       "                                                     [key], {});\n",
       "          if (!dataTable) return;\n",
       "\n",
       "          const docLinkHtml = 'Like what you see? Visit the ' +\n",
       "            '<a target=\"_blank\" href=https://colab.research.google.com/notebooks/data_table.ipynb>data table notebook</a>'\n",
       "            + ' to learn more about interactive tables.';\n",
       "          element.innerHTML = '';\n",
       "          dataTable['output_type'] = 'display_data';\n",
       "          await google.colab.output.renderOutput(dataTable, element);\n",
       "          const docLink = document.createElement('div');\n",
       "          docLink.innerHTML = docLinkHtml;\n",
       "          element.appendChild(docLink);\n",
       "        }\n",
       "      </script>\n",
       "    </div>\n",
       "  </div>\n",
       "  "
      ],
      "text/plain": [
       "   year                title  \\\n",
       "1  1999  Message in a Bottle   \n",
       "4  1978     Midnight Express   \n",
       "5  1996          Primal Fear   \n",
       "6  1950               Crisis   \n",
       "7  1959          The Tingler   \n",
       "\n",
       "                                                plot  \n",
       "1  who meets by fate ,  shall be sealed by fate ....  \n",
       "4  the true story of billy hayes ,  an american c...  \n",
       "5  martin vail left the chicago da ' s office to ...  \n",
       "6  husband and wife americans dr .  eugene and mr...  \n",
       "7  the coroner and scientist dr .  warren chapin ...  "
      ]
     },
     "execution_count": 6,
     "metadata": {},
     "output_type": "execute_result"
    }
   ],
   "source": [
    "# Visualización datos de test\n",
    "dataTesting.head()"
   ]
  },
  {
   "cell_type": "code",
   "execution_count": 7,
   "metadata": {
    "colab": {
     "base_uri": "https://localhost:8080/"
    },
    "executionInfo": {
     "elapsed": 1427,
     "status": "ok",
     "timestamp": 1685108366992,
     "user": {
      "displayName": "Oscar Andres Patino Patarroyo",
      "userId": "14256463387961091998"
     },
     "user_tz": 300
    },
    "id": "IYL6WHyFkTFb",
    "outputId": "0dc657a3-bd07-4c30-8e79-142c111ce95f"
   },
   "outputs": [
    {
     "data": {
      "text/plain": [
       "(7895, 1000)"
      ]
     },
     "execution_count": 7,
     "metadata": {},
     "output_type": "execute_result"
    }
   ],
   "source": [
    "# Definición de variables predictoras (X)\n",
    "vect = CountVectorizer(max_features=1000,stop_words='english')\n",
    "X_dtm = vect.fit_transform(dataTraining['plot'])\n",
    "X_dtm.shape"
   ]
  },
  {
   "cell_type": "code",
   "execution_count": 8,
   "metadata": {
    "executionInfo": {
     "elapsed": 6,
     "status": "ok",
     "timestamp": 1685108366992,
     "user": {
      "displayName": "Oscar Andres Patino Patarroyo",
      "userId": "14256463387961091998"
     },
     "user_tz": 300
    },
    "id": "0Ue9jXEGkTFc",
    "scrolled": true
   },
   "outputs": [],
   "source": [
    "# Definición de variable de interés (y)\n",
    "dataTraining['genres'] = dataTraining['genres'].map(lambda x: eval(x))\n",
    "le = MultiLabelBinarizer()\n",
    "y_genres = le.fit_transform(dataTraining['genres'])"
   ]
  },
  {
   "cell_type": "code",
   "execution_count": 9,
   "metadata": {
    "executionInfo": {
     "elapsed": 5,
     "status": "ok",
     "timestamp": 1685108366993,
     "user": {
      "displayName": "Oscar Andres Patino Patarroyo",
      "userId": "14256463387961091998"
     },
     "user_tz": 300
    },
    "id": "V9ICHG5AkTFg"
   },
   "outputs": [],
   "source": [
    "# Separación de variables predictoras (X) y variable de interés (y) en set de entrenamiento y test usandola función train_test_split\n",
    "X_train, X_test, y_train_genres, y_test_genres = train_test_split(X_dtm, y_genres, test_size=0.33, random_state=42)"
   ]
  },
  {
   "cell_type": "code",
   "execution_count": null,
   "metadata": {
    "id": "y7Evef6gkTFh"
   },
   "outputs": [],
   "source": [
    "# Definición y entrenamiento\n",
    "clf = OneVsRestClassifier(RandomForestClassifier(n_jobs=-1, n_estimators=100, max_depth=10, random_state=42))\n",
    "clf.fit(X_train, y_train_genres)"
   ]
  },
  {
   "cell_type": "code",
   "execution_count": null,
   "metadata": {
    "id": "nyObmeHpkTFj"
   },
   "outputs": [],
   "source": [
    "# Predicción del modelo de clasificación\n",
    "y_pred_genres = clf.predict_proba(X_test)\n",
    "\n",
    "# Impresión del desempeño del modelo\n",
    "roc_auc_score(y_test_genres, y_pred_genres, average='macro')"
   ]
  },
  {
   "cell_type": "code",
   "execution_count": null,
   "metadata": {
    "id": "iK3LPBZnkTFk"
   },
   "outputs": [],
   "source": [
    "# transformación variables predictoras X del conjunto de test\n",
    "X_test_dtm = vect.transform(dataTesting['plot'])\n",
    "\n",
    "cols = ['p_Action', 'p_Adventure', 'p_Animation', 'p_Biography', 'p_Comedy', 'p_Crime', 'p_Documentary', 'p_Drama', 'p_Family',\n",
    "        'p_Fantasy', 'p_Film-Noir', 'p_History', 'p_Horror', 'p_Music', 'p_Musical', 'p_Mystery', 'p_News', 'p_Romance',\n",
    "        'p_Sci-Fi', 'p_Short', 'p_Sport', 'p_Thriller', 'p_War', 'p_Western']\n",
    "\n",
    "# Predicción del conjunto de test\n",
    "y_pred_test_genres = clf.predict_proba(X_test_dtm)"
   ]
  },
  {
   "cell_type": "code",
   "execution_count": null,
   "metadata": {
    "id": "axdcyAszkTFl",
    "outputId": "0d023beb-a4ee-4e92-b7d6-d38c678e6cfb"
   },
   "outputs": [
    {
     "data": {
      "text/html": [
       "<div>\n",
       "<style scoped>\n",
       "    .dataframe tbody tr th:only-of-type {\n",
       "        vertical-align: middle;\n",
       "    }\n",
       "\n",
       "    .dataframe tbody tr th {\n",
       "        vertical-align: top;\n",
       "    }\n",
       "\n",
       "    .dataframe thead th {\n",
       "        text-align: right;\n",
       "    }\n",
       "</style>\n",
       "<table border=\"1\" class=\"dataframe\">\n",
       "  <thead>\n",
       "    <tr style=\"text-align: right;\">\n",
       "      <th></th>\n",
       "      <th>p_Action</th>\n",
       "      <th>p_Adventure</th>\n",
       "      <th>p_Animation</th>\n",
       "      <th>p_Biography</th>\n",
       "      <th>p_Comedy</th>\n",
       "      <th>p_Crime</th>\n",
       "      <th>p_Documentary</th>\n",
       "      <th>p_Drama</th>\n",
       "      <th>p_Family</th>\n",
       "      <th>p_Fantasy</th>\n",
       "      <th>...</th>\n",
       "      <th>p_Musical</th>\n",
       "      <th>p_Mystery</th>\n",
       "      <th>p_News</th>\n",
       "      <th>p_Romance</th>\n",
       "      <th>p_Sci-Fi</th>\n",
       "      <th>p_Short</th>\n",
       "      <th>p_Sport</th>\n",
       "      <th>p_Thriller</th>\n",
       "      <th>p_War</th>\n",
       "      <th>p_Western</th>\n",
       "    </tr>\n",
       "  </thead>\n",
       "  <tbody>\n",
       "    <tr>\n",
       "      <th>1</th>\n",
       "      <td>0.115936</td>\n",
       "      <td>0.097742</td>\n",
       "      <td>0.023667</td>\n",
       "      <td>0.033171</td>\n",
       "      <td>0.350883</td>\n",
       "      <td>0.121593</td>\n",
       "      <td>0.038935</td>\n",
       "      <td>0.501625</td>\n",
       "      <td>0.063223</td>\n",
       "      <td>0.112052</td>\n",
       "      <td>...</td>\n",
       "      <td>0.025849</td>\n",
       "      <td>0.066989</td>\n",
       "      <td>0.000080</td>\n",
       "      <td>0.326915</td>\n",
       "      <td>0.056593</td>\n",
       "      <td>0.007746</td>\n",
       "      <td>0.018275</td>\n",
       "      <td>0.181140</td>\n",
       "      <td>0.022994</td>\n",
       "      <td>0.019033</td>\n",
       "    </tr>\n",
       "    <tr>\n",
       "      <th>4</th>\n",
       "      <td>0.130519</td>\n",
       "      <td>0.094593</td>\n",
       "      <td>0.022446</td>\n",
       "      <td>0.061130</td>\n",
       "      <td>0.342924</td>\n",
       "      <td>0.219128</td>\n",
       "      <td>0.054908</td>\n",
       "      <td>0.525471</td>\n",
       "      <td>0.064037</td>\n",
       "      <td>0.065071</td>\n",
       "      <td>...</td>\n",
       "      <td>0.023979</td>\n",
       "      <td>0.065996</td>\n",
       "      <td>0.000439</td>\n",
       "      <td>0.172190</td>\n",
       "      <td>0.056970</td>\n",
       "      <td>0.009183</td>\n",
       "      <td>0.018986</td>\n",
       "      <td>0.208753</td>\n",
       "      <td>0.027562</td>\n",
       "      <td>0.019623</td>\n",
       "    </tr>\n",
       "    <tr>\n",
       "      <th>5</th>\n",
       "      <td>0.219088</td>\n",
       "      <td>0.116916</td>\n",
       "      <td>0.019175</td>\n",
       "      <td>0.092303</td>\n",
       "      <td>0.278692</td>\n",
       "      <td>0.460124</td>\n",
       "      <td>0.030849</td>\n",
       "      <td>0.595520</td>\n",
       "      <td>0.071616</td>\n",
       "      <td>0.081798</td>\n",
       "      <td>...</td>\n",
       "      <td>0.023715</td>\n",
       "      <td>0.321541</td>\n",
       "      <td>0.000946</td>\n",
       "      <td>0.275059</td>\n",
       "      <td>0.109710</td>\n",
       "      <td>0.015096</td>\n",
       "      <td>0.079912</td>\n",
       "      <td>0.411733</td>\n",
       "      <td>0.038717</td>\n",
       "      <td>0.023842</td>\n",
       "    </tr>\n",
       "    <tr>\n",
       "      <th>6</th>\n",
       "      <td>0.127627</td>\n",
       "      <td>0.107679</td>\n",
       "      <td>0.020988</td>\n",
       "      <td>0.078919</td>\n",
       "      <td>0.306709</td>\n",
       "      <td>0.143099</td>\n",
       "      <td>0.052145</td>\n",
       "      <td>0.561950</td>\n",
       "      <td>0.070046</td>\n",
       "      <td>0.072690</td>\n",
       "      <td>...</td>\n",
       "      <td>0.065193</td>\n",
       "      <td>0.115011</td>\n",
       "      <td>0.001434</td>\n",
       "      <td>0.227025</td>\n",
       "      <td>0.104296</td>\n",
       "      <td>0.008812</td>\n",
       "      <td>0.040535</td>\n",
       "      <td>0.225721</td>\n",
       "      <td>0.069887</td>\n",
       "      <td>0.017461</td>\n",
       "    </tr>\n",
       "    <tr>\n",
       "      <th>7</th>\n",
       "      <td>0.177181</td>\n",
       "      <td>0.173984</td>\n",
       "      <td>0.042258</td>\n",
       "      <td>0.035765</td>\n",
       "      <td>0.351817</td>\n",
       "      <td>0.260977</td>\n",
       "      <td>0.037887</td>\n",
       "      <td>0.407981</td>\n",
       "      <td>0.103738</td>\n",
       "      <td>0.132132</td>\n",
       "      <td>...</td>\n",
       "      <td>0.033129</td>\n",
       "      <td>0.082387</td>\n",
       "      <td>0.000071</td>\n",
       "      <td>0.169272</td>\n",
       "      <td>0.281801</td>\n",
       "      <td>0.008559</td>\n",
       "      <td>0.032381</td>\n",
       "      <td>0.243971</td>\n",
       "      <td>0.023557</td>\n",
       "      <td>0.037470</td>\n",
       "    </tr>\n",
       "  </tbody>\n",
       "</table>\n",
       "<p>5 rows × 24 columns</p>\n",
       "</div>"
      ],
      "text/plain": [
       "   p_Action  p_Adventure  p_Animation  p_Biography  p_Comedy   p_Crime  \\\n",
       "1  0.115936     0.097742     0.023667     0.033171  0.350883  0.121593   \n",
       "4  0.130519     0.094593     0.022446     0.061130  0.342924  0.219128   \n",
       "5  0.219088     0.116916     0.019175     0.092303  0.278692  0.460124   \n",
       "6  0.127627     0.107679     0.020988     0.078919  0.306709  0.143099   \n",
       "7  0.177181     0.173984     0.042258     0.035765  0.351817  0.260977   \n",
       "\n",
       "   p_Documentary   p_Drama  p_Family  p_Fantasy  ...  p_Musical  p_Mystery  \\\n",
       "1       0.038935  0.501625  0.063223   0.112052  ...   0.025849   0.066989   \n",
       "4       0.054908  0.525471  0.064037   0.065071  ...   0.023979   0.065996   \n",
       "5       0.030849  0.595520  0.071616   0.081798  ...   0.023715   0.321541   \n",
       "6       0.052145  0.561950  0.070046   0.072690  ...   0.065193   0.115011   \n",
       "7       0.037887  0.407981  0.103738   0.132132  ...   0.033129   0.082387   \n",
       "\n",
       "     p_News  p_Romance  p_Sci-Fi   p_Short   p_Sport  p_Thriller     p_War  \\\n",
       "1  0.000080   0.326915  0.056593  0.007746  0.018275    0.181140  0.022994   \n",
       "4  0.000439   0.172190  0.056970  0.009183  0.018986    0.208753  0.027562   \n",
       "5  0.000946   0.275059  0.109710  0.015096  0.079912    0.411733  0.038717   \n",
       "6  0.001434   0.227025  0.104296  0.008812  0.040535    0.225721  0.069887   \n",
       "7  0.000071   0.169272  0.281801  0.008559  0.032381    0.243971  0.023557   \n",
       "\n",
       "   p_Western  \n",
       "1   0.019033  \n",
       "4   0.019623  \n",
       "5   0.023842  \n",
       "6   0.017461  \n",
       "7   0.037470  \n",
       "\n",
       "[5 rows x 24 columns]"
      ]
     },
     "execution_count": 22,
     "metadata": {},
     "output_type": "execute_result"
    }
   ],
   "source": [
    "# Guardar predicciones en formato exigido en la competencia de kaggle\n",
    "res = pd.DataFrame(y_pred_test_genres, index=dataTesting.index, columns=cols)\n",
    "res.to_csv('pred_genres_text_RF.csv', index_label='ID')\n",
    "res.head()"
   ]
  },
  {
   "cell_type": "markdown",
   "metadata": {
    "id": "w1PEaHyFkTFm"
   },
   "source": [
    "# FUNCIONES"
   ]
  },
  {
   "cell_type": "code",
   "execution_count": 10,
   "metadata": {
    "executionInfo": {
     "elapsed": 360,
     "status": "ok",
     "timestamp": 1685108376192,
     "user": {
      "displayName": "Oscar Andres Patino Patarroyo",
      "userId": "14256463387961091998"
     },
     "user_tz": 300
    },
    "id": "8OCtvq9nkTFm"
   },
   "outputs": [],
   "source": [
    "def guardar(modelo,XTest,nombre):\n",
    "    ypred = modelo.predict_proba(XTest)\n",
    "    cols = ['p_Action', 'p_Adventure', 'p_Animation', 'p_Biography', 'p_Comedy', 'p_Crime', 'p_Documentary', 'p_Drama', 'p_Family',\n",
    "        'p_Fantasy', 'p_Film-Noir', 'p_History', 'p_Horror', 'p_Music', 'p_Musical', 'p_Mystery', 'p_News', 'p_Romance',\n",
    "        'p_Sci-Fi', 'p_Short', 'p_Sport', 'p_Thriller', 'p_War', 'p_Western']\n",
    "    ypred = pd.DataFrame(ypred,index=dataTesting.index, columns=cols)\n",
    "    # Guardar predicciones en formato exigido en la competencia de kaggle\n",
    "    archivo = nombre + '.csv'\n",
    "    ypred.to_csv(archivo, index_label='ID')\n",
    "    return ypred"
   ]
  },
  {
   "cell_type": "code",
   "execution_count": 11,
   "metadata": {
    "executionInfo": {
     "elapsed": 4,
     "status": "ok",
     "timestamp": 1685108376644,
     "user": {
      "displayName": "Oscar Andres Patino Patarroyo",
      "userId": "14256463387961091998"
     },
     "user_tz": 300
    },
    "id": "Na4xHLrjkTFo"
   },
   "outputs": [],
   "source": [
    "def calculo_metrica(ypred,yTest,ypredTr,yTrain):\n",
    "    AUC_Tr = roc_auc_score(yTrain, ypredTr, average='macro')\n",
    "    AUC = roc_auc_score(yTest, ypred, average='macro')\n",
    "    \n",
    "    R2_Tr = r2_score(yTrain, ypredTr)\n",
    "    R2 = r2_score(yTest, ypred)\n",
    "    \n",
    "    # Cálculo del desempeño del modelo utilizando el RMSE y el MAE\n",
    "    print(f'El AUC del modelo es de {AUC}')\n",
    "    print(f'El R2 del modelo es de {R2}')\n",
    "\n",
    "    print(f'\\nEl AUC del modelo en Train es de {AUC_Tr}')\n",
    "    print(f'El R2 del modelo en Train es de {R2_Tr}')"
   ]
  },
  {
   "cell_type": "code",
   "execution_count": 12,
   "metadata": {
    "executionInfo": {
     "elapsed": 4,
     "status": "ok",
     "timestamp": 1685108377106,
     "user": {
      "displayName": "Oscar Andres Patino Patarroyo",
      "userId": "14256463387961091998"
     },
     "user_tz": 300
    },
    "id": "HGfQ259KkTFp"
   },
   "outputs": [],
   "source": [
    "wordnet_lemmatizer = WordNetLemmatizer()\n",
    "def split_into_lemmas(text):\n",
    "    text = text.lower()\n",
    "    words = text.split()\n",
    "    return [wordnet_lemmatizer.lemmatize(word) for word in words]"
   ]
  },
  {
   "cell_type": "code",
   "execution_count": null,
   "metadata": {
    "id": "cMxFwWwMkTFq"
   },
   "outputs": [],
   "source": []
  },
  {
   "cell_type": "code",
   "execution_count": null,
   "metadata": {
    "id": "M8Eqesh0kTFr"
   },
   "outputs": [],
   "source": []
  },
  {
   "cell_type": "markdown",
   "metadata": {
    "id": "-eR8GTFPkTFr",
    "tags": []
   },
   "source": [
    "# PREPROCESAMIENTO DATOS"
   ]
  },
  {
   "cell_type": "markdown",
   "metadata": {
    "id": "ggSxRY9okTFt"
   },
   "source": [
    "Probar:\n",
    "\n",
    "1. CountVectorizer con StopWords, \n",
    "2. lematización (ingles), \n",
    "3. y con  TfidfVectorizer"
   ]
  },
  {
   "cell_type": "markdown",
   "metadata": {
    "id": "7tM9kb6dkTFv"
   },
   "source": [
    "## Unigramas, bigramas, trigramas, stopwords y lematización"
   ]
  },
  {
   "cell_type": "code",
   "execution_count": 13,
   "metadata": {
    "executionInfo": {
     "elapsed": 14179,
     "status": "ok",
     "timestamp": 1685108399390,
     "user": {
      "displayName": "Oscar Andres Patino Patarroyo",
      "userId": "14256463387961091998"
     },
     "user_tz": 300
    },
    "id": "PI-0WyhUkTFw",
    "scrolled": true
   },
   "outputs": [],
   "source": [
    "vect4 = CountVectorizer(lowercase=True, ngram_range=(1, 1), stop_words='english', analyzer=split_into_lemmas,max_features=30000)\n",
    "X_vec_4 = vect4.fit_transform(dataTraining['plot'])\n",
    "XTrain4, XTest4, yTrain4, yTest4 = train_test_split(X_vec_4, y_genres, test_size=0.15, random_state=8)"
   ]
  },
  {
   "cell_type": "code",
   "execution_count": null,
   "metadata": {
    "colab": {
     "base_uri": "https://localhost:8080/"
    },
    "executionInfo": {
     "elapsed": 240222,
     "status": "ok",
     "timestamp": 1684734076343,
     "user": {
      "displayName": "Oscar Andres Patino Patarroyo",
      "userId": "14256463387961091998"
     },
     "user_tz": 300
    },
    "id": "3RstZ-NokTFx",
    "outputId": "4c73c0e5-aed5-4616-8bbf-52839844723f"
   },
   "outputs": [
    {
     "name": "stdout",
     "output_type": "stream",
     "text": [
      "El AUC del modelo es de 0.8228839704379366\n",
      "El R2 del modelo es de 0.17453607688615722\n",
      "\n",
      "El AUC del modelo en Train es de 1.0\n",
      "El R2 del modelo en Train es de 0.883384594976882\n"
     ]
    }
   ],
   "source": [
    "clfRF4 = OneVsRestClassifier(RandomForestClassifier(n_jobs=-1, random_state=42)).fit(XTrain4, yTrain4)\n",
    "ypredTrRF4 = clfRF4.predict_proba(XTrain4)\n",
    "ypredRF4 = clfRF4.predict_proba(XTest4)\n",
    "\n",
    "calculo_metrica(ypredRF4, yTest4, ypredTrRF4, yTrain4)"
   ]
  },
  {
   "cell_type": "markdown",
   "metadata": {
    "id": "rxwhgun8kTFy"
   },
   "source": [
    "## Stop words"
   ]
  },
  {
   "cell_type": "code",
   "execution_count": 14,
   "metadata": {
    "executionInfo": {
     "elapsed": 437,
     "status": "ok",
     "timestamp": 1685108399768,
     "user": {
      "displayName": "Oscar Andres Patino Patarroyo",
      "userId": "14256463387961091998"
     },
     "user_tz": 300
    },
    "id": "HZicvpwPkTFz",
    "scrolled": true
   },
   "outputs": [],
   "source": [
    "vect2 = CountVectorizer(lowercase=True, stop_words='english',max_features=1000)\n",
    "X_vec_2 = vect2.fit_transform(dataTraining['plot'])\n",
    "XTrain2, XTest2, yTrain2, yTest2 = train_test_split(X_vec_2, y_genres, test_size=0.33, random_state=42)"
   ]
  },
  {
   "cell_type": "code",
   "execution_count": null,
   "metadata": {
    "id": "hzukU6mukTF0",
    "outputId": "d4891dc9-8ebf-4ddf-ede0-0357d99ca8d1"
   },
   "outputs": [
    {
     "name": "stdout",
     "output_type": "stream",
     "text": [
      "El AUC del modelo es de 0.7612499400923003\n",
      "El R2 del modelo es de 0.13823759611143463\n",
      "\n",
      "El AUC del modelo en Train es de 1.0\n",
      "El R2 del modelo en Train es de 0.8821950251175578\n"
     ]
    }
   ],
   "source": [
    "clfRF2 = OneVsRestClassifier(RandomForestClassifier(n_jobs=-1, random_state=42)).fit(XTrain2, yTrain2)\n",
    "ypredTrRF2 = clfRF2.predict_proba(XTrain2)\n",
    "ypredRF2 = clfRF2.predict_proba(XTest2)\n",
    "\n",
    "calculo_metrica(ypredRF2, yTest2, ypredTrRF2, yTrain2)"
   ]
  },
  {
   "cell_type": "markdown",
   "metadata": {
    "id": "prf0roqskTF1"
   },
   "source": [
    "## Max features 1000"
   ]
  },
  {
   "cell_type": "code",
   "execution_count": null,
   "metadata": {
    "id": "9kmnZ06nkTF1",
    "outputId": "6194bc70-a1d3-4326-d6fd-d8623c52d7d7"
   },
   "outputs": [
    {
     "name": "stdout",
     "output_type": "stream",
     "text": [
      "El AUC del modelo es de 0.7703737131620141\n",
      "El R2 del modelo es de 0.09011875118854669\n",
      "\n",
      "El AUC del modelo en Train es de 0.9400828495118548\n",
      "El R2 del modelo en Train es de 0.268097978664562\n"
     ]
    }
   ],
   "source": [
    "ypredTr = clf.predict_proba(X_train)\n",
    "ypred = clf.predict_proba(X_test)\n",
    "\n",
    "calculo_metrica(ypred, y_test_genres, ypredTr, y_train_genres)"
   ]
  },
  {
   "cell_type": "markdown",
   "metadata": {
    "id": "t8IV30JZkTF3"
   },
   "source": [
    "## Unigramas, bigramas, trigramas"
   ]
  },
  {
   "cell_type": "code",
   "execution_count": null,
   "metadata": {
    "id": "R9-stLxTkTF3",
    "scrolled": true
   },
   "outputs": [],
   "source": [
    "vect1 = CountVectorizer(lowercase=True, ngram_range=(1, 1))\n",
    "X_vec_1 = vect1.fit_transform(dataTraining['plot'])\n",
    "XTrain1, XTest1, yTrain1, yTest1 = train_test_split(X_vec_1, y_genres, test_size=0.33, random_state=42)"
   ]
  },
  {
   "cell_type": "code",
   "execution_count": null,
   "metadata": {
    "id": "VPPChZFwkTF4",
    "outputId": "18e00514-9608-4028-dc6f-75ccdfd6c755"
   },
   "outputs": [
    {
     "name": "stdout",
     "output_type": "stream",
     "text": [
      "El AUC del modelo es de 0.7925846141798107\n",
      "El R2 del modelo es de 0.15556153119123095\n",
      "\n",
      "El AUC del modelo en Train es de 1.0\n",
      "El R2 del modelo en Train es de 0.8844611554305887\n"
     ]
    }
   ],
   "source": [
    "clfRF1 = OneVsRestClassifier(RandomForestClassifier(n_jobs=-1, random_state=42)).fit(XTrain1, yTrain1)\n",
    "ypredTrRF1 = clfRF1.predict_proba(XTrain1)\n",
    "ypredRF1 = clfRF1.predict_proba(XTest1)\n",
    "\n",
    "calculo_metrica(ypredRF1, yTest1, ypredTrRF1, yTrain1)"
   ]
  },
  {
   "cell_type": "markdown",
   "metadata": {
    "id": "1BZkRUwRkTF6"
   },
   "source": [
    "## Lematización"
   ]
  },
  {
   "cell_type": "code",
   "execution_count": null,
   "metadata": {
    "id": "pxTZ0FXVkTF7",
    "scrolled": true
   },
   "outputs": [],
   "source": [
    "vect3 = CountVectorizer(lowercase=True, analyzer=split_into_lemmas)\n",
    "X_vec_3 = vect3.fit_transform(dataTraining['plot'])\n",
    "XTrain3, XTest3, yTrain3, yTest3 = train_test_split(X_vec_3, y_genres, test_size=0.33, random_state=42)"
   ]
  },
  {
   "cell_type": "code",
   "execution_count": null,
   "metadata": {
    "id": "gSdgzcD3kTF7",
    "outputId": "c9170abd-71b6-43db-e635-736b750559c8"
   },
   "outputs": [
    {
     "name": "stdout",
     "output_type": "stream",
     "text": [
      "El AUC del modelo es de 0.7980287385971042\n",
      "El R2 del modelo es de 0.1540170767051151\n",
      "\n",
      "El AUC del modelo en Train es de 1.0\n",
      "El R2 del modelo en Train es de 0.8845257399389096\n"
     ]
    }
   ],
   "source": [
    "clfRF3 = OneVsRestClassifier(RandomForestClassifier(n_jobs=-1, random_state=42)).fit(XTrain3, yTrain3)\n",
    "ypredTrRF3 = clfRF3.predict_proba(XTrain3)\n",
    "ypredRF3 = clfRF3.predict_proba(XTest3)\n",
    "\n",
    "calculo_metrica(ypredRF3, yTest3, ypredTrRF3, yTrain3)"
   ]
  },
  {
   "cell_type": "markdown",
   "metadata": {
    "id": "uQttJYZZkTF9"
   },
   "source": [
    "## TfidfVectorizer"
   ]
  },
  {
   "cell_type": "code",
   "execution_count": null,
   "metadata": {
    "id": "cz8m0zN7kTF-",
    "scrolled": true
   },
   "outputs": [],
   "source": [
    "vect5 = TfidfVectorizer(lowercase=True, stop_words='english')\n",
    "X_vec_5 = vect5.fit_transform(dataTraining['plot'])\n",
    "XTrain5, XTest5, yTrain5, yTest5 = train_test_split(X_vec_5, y_genres, test_size=0.33, random_state=42)"
   ]
  },
  {
   "cell_type": "code",
   "execution_count": null,
   "metadata": {
    "id": "RVpcJUa3kTGA",
    "outputId": "c9907baa-6afd-4e78-9ff1-847a46bb2c2c"
   },
   "outputs": [
    {
     "name": "stdout",
     "output_type": "stream",
     "text": [
      "El AUC del modelo es de 0.7967147889754017\n",
      "El R2 del modelo es de 0.15910156567739364\n",
      "\n",
      "El AUC del modelo en Train es de 1.0\n",
      "El R2 del modelo en Train es de 0.8850786523903759\n"
     ]
    }
   ],
   "source": [
    "clfRF5 = OneVsRestClassifier(RandomForestClassifier(n_jobs=-1, random_state=42)).fit(XTrain5, yTrain5)\n",
    "ypredTrRF5 = clfRF5.predict_proba(XTrain5)\n",
    "ypredRF5 = clfRF5.predict_proba(XTest5)\n",
    "\n",
    "calculo_metrica(ypredRF5, yTest5, ypredTrRF5, yTrain5)"
   ]
  },
  {
   "cell_type": "markdown",
   "metadata": {
    "id": "U7ZftVUqkTGC"
   },
   "source": [
    "# CALIBRACIÓN"
   ]
  },
  {
   "cell_type": "code",
   "execution_count": null,
   "metadata": {
    "id": "pn7SEfHSkTGD"
   },
   "outputs": [],
   "source": []
  },
  {
   "cell_type": "code",
   "execution_count": null,
   "metadata": {
    "id": "6KPjKrmykTGF"
   },
   "outputs": [],
   "source": []
  },
  {
   "cell_type": "code",
   "execution_count": null,
   "metadata": {
    "id": "C0LRWC6ykTGG"
   },
   "outputs": [],
   "source": []
  },
  {
   "cell_type": "code",
   "execution_count": null,
   "metadata": {
    "id": "0eEkEO82kTGH"
   },
   "outputs": [],
   "source": []
  },
  {
   "cell_type": "code",
   "execution_count": null,
   "metadata": {
    "id": "azDo-YFvkTGI"
   },
   "outputs": [],
   "source": []
  },
  {
   "cell_type": "markdown",
   "metadata": {
    "id": "OipRz-m9kTGI"
   },
   "source": [
    "## Random Forest"
   ]
  },
  {
   "cell_type": "code",
   "execution_count": null,
   "metadata": {
    "id": "nc_oa8aqkTGJ",
    "outputId": "3094ed56-49a4-422f-dbbe-d031c6a3531b"
   },
   "outputs": [
    {
     "data": {
      "text/plain": [
       "OneVsRestClassifier(estimator=RandomForestClassifier(max_depth=10, n_jobs=-1,\n",
       "                                                     random_state=42))"
      ]
     },
     "execution_count": 27,
     "metadata": {},
     "output_type": "execute_result"
    }
   ],
   "source": [
    "clfRF1 = OneVsRestClassifier(RandomForestClassifier(n_jobs=-1, n_estimators=100, max_depth=10, random_state=42))\n",
    "clfRF1.fit(X_train, y_train_genres)"
   ]
  },
  {
   "cell_type": "code",
   "execution_count": null,
   "metadata": {
    "id": "Bbb2QP6bkTGK",
    "outputId": "d0f7dd4a-053b-42ee-fa99-72582f272021"
   },
   "outputs": [
    {
     "name": "stdout",
     "output_type": "stream",
     "text": [
      "El AUC del modelo es de 0.7703737131620141\n",
      "El R2 del modelo es de 0.09011875118854669\n",
      "\n",
      "El AUC del modelo en Train es de 0.9400828495118548\n",
      "El R2 del modelo en Train es de 0.268097978664562\n"
     ]
    }
   ],
   "source": [
    "ypredTrRF1 = clfRF1.predict_proba(X_train)\n",
    "ypredRF1 = clfRF1.predict_proba(X_test)\n",
    "calculo_metrica(ypredRF1,y_test_genres,ypredTrRF1,y_train_genres)"
   ]
  },
  {
   "cell_type": "markdown",
   "metadata": {
    "id": "12sZVgSGkTGL"
   },
   "source": [
    "### RF Calibración 1"
   ]
  },
  {
   "cell_type": "code",
   "execution_count": null,
   "metadata": {
    "id": "krHZ3foRkTGM"
   },
   "outputs": [],
   "source": [
    "max_depth_range = range(1,35,2)\n",
    "max_features_range = range(5,40)\n",
    "min_samples_leaf_range = range(1,10)\n",
    "min_samples_split = range(1,50,2)\n",
    "estimator_range = [10,50,100,200,500,750,1000]\n",
    "auc=[]\n",
    "param=[]"
   ]
  },
  {
   "cell_type": "code",
   "execution_count": null,
   "metadata": {
    "id": "XY5hzz3tkTGN",
    "outputId": "85ead909-0249-46f7-9dae-81a351b62548"
   },
   "outputs": [
    {
     "name": "stdout",
     "output_type": "stream",
     "text": [
      "El parámetro max_depth que mejor calibra el modelo es 17\n",
      "El parámetro max_depth que mejor calibra el modelo es 33\n"
     ]
    },
    {
     "data": {
      "image/png": "[encoded data removed]",
      "text/plain": [
       "<Figure size 432x288 with 1 Axes>"
      ]
     },
     "metadata": {
      "needs_background": "light"
     },
     "output_type": "display_data"
    }
   ],
   "source": [
    "for max_depth in max_depth_range:\n",
    "    reg = RandomForestClassifier(max_depth = max_depth, n_jobs=-1,random_state=8)\n",
    "    scores = cross_val_score(reg, XTrain2, yTrain2, cv = 3, scoring = 'roc_auc', n_jobs=-1)\n",
    "    auc.append(np.mean(scores))\n",
    "    param.append(max_depth)\n",
    "\n",
    "# Gráfica del desempeño del modelo vs la cantidad de max_depth\n",
    "plt.plot(max_depth_range, auc)\n",
    "plt.xlabel('max_depth')\n",
    "plt.ylabel('AUC')\n",
    "\n",
    "print(f'El parámetro max_depth que mejor calibra el modelo es {auc.index(max(auc)) + 1}')\n",
    "print(f'El parámetro max_depth que mejor calibra el modelo es {param[auc.index(max(auc))]}')"
   ]
  },
  {
   "cell_type": "code",
   "execution_count": null,
   "metadata": {
    "id": "3qXntgDlkTGO",
    "outputId": "d84694b4-6d0a-4f54-fd71-bc79ea513399"
   },
   "outputs": [
    {
     "name": "stdout",
     "output_type": "stream",
     "text": [
      "El parámetro max_feature que mejor calibra el modelo es 32\n",
      "El parámetro max_feature que mejor calibra el modelo es 36\n"
     ]
    },
    {
     "data": {
      "image/png": "[encoded data removed]",
      "text/plain": [
       "<Figure size 432x288 with 1 Axes>"
      ]
     },
     "metadata": {
      "needs_background": "light"
     },
     "output_type": "display_data"
    }
   ],
   "source": [
    "auc=[]\n",
    "param=[]\n",
    "for feauture in max_features_range:\n",
    "    reg = RandomForestRegressor(max_depth = 33,  max_features = feauture, n_jobs=-1,random_state=8)\n",
    "    scores = cross_val_score(reg, XTrain2, yTrain2, cv = 3, scoring = 'roc_auc', n_jobs=-1)\n",
    "    auc.append(np.mean(scores))\n",
    "    param.append(feauture)\n",
    "\n",
    "# Gráfica del desempeño del modelo vs la cantidad de max_depth\n",
    "plt.plot(max_features_range, auc)\n",
    "plt.xlabel('max_feature')\n",
    "plt.ylabel('AUC')\n",
    "\n",
    "print(f'El parámetro max_feature que mejor calibra el modelo es {auc.index(max(auc)) + 1}')\n",
    "print(f'El parámetro max_feature que mejor calibra el modelo es {param[auc.index(max(auc))]}')"
   ]
  },
  {
   "cell_type": "code",
   "execution_count": null,
   "metadata": {
    "id": "ybzgnNhjkTGY",
    "outputId": "dad20cab-0205-438c-834f-f7a2ad0b9ad3"
   },
   "outputs": [
    {
     "name": "stdout",
     "output_type": "stream",
     "text": [
      "El parámetro min leaf que mejor calibra el modelo es 4\n",
      "El parámetro min leaf que mejor calibra el modelo es 4\n"
     ]
    },
    {
     "data": {
      "image/png": "[encoded data removed]",
      "text/plain": [
       "<Figure size 432x288 with 1 Axes>"
      ]
     },
     "metadata": {
      "needs_background": "light"
     },
     "output_type": "display_data"
    }
   ],
   "source": [
    "auc=[]\n",
    "param=[]\n",
    "for min_leaf in min_samples_leaf_range:\n",
    "    reg = RandomForestRegressor(max_depth = 33,  max_features = 36, min_samples_leaf = min_leaf, n_jobs=-1,random_state=8)\n",
    "    scores = cross_val_score(reg, XTrain2, yTrain2, cv = 3, scoring = 'roc_auc', n_jobs=-1)\n",
    "    auc.append(np.mean(scores))\n",
    "    param.append(min_leaf)\n",
    "\n",
    "# Gráfica del desempeño del modelo vs la cantidad de max_depth\n",
    "plt.plot(min_samples_leaf_range, auc)\n",
    "plt.xlabel('min_leaf')\n",
    "plt.ylabel('AUC')\n",
    "\n",
    "print(f'El parámetro min leaf que mejor calibra el modelo es {auc.index(max(auc)) + 1}')\n",
    "print(f'El parámetro min leaf que mejor calibra el modelo es {param[auc.index(max(auc))]}')"
   ]
  },
  {
   "cell_type": "code",
   "execution_count": null,
   "metadata": {
    "id": "eiR4IeBMkTGZ",
    "outputId": "0946359b-fcd1-4146-dbd8-17c8d46a3ba7"
   },
   "outputs": [
    {
     "name": "stdout",
     "output_type": "stream",
     "text": [
      "El parámetro min split que mejor calibra el modelo es 1\n",
      "El parámetro min split que mejor calibra el modelo es 1\n"
     ]
    },
    {
     "data": {
      "image/png": "[encoded data removed]",
      "text/plain": [
       "<Figure size 432x288 with 1 Axes>"
      ]
     },
     "metadata": {
      "needs_background": "light"
     },
     "output_type": "display_data"
    }
   ],
   "source": [
    "auc=[]\n",
    "param=[]\n",
    "for split in min_samples_split:\n",
    "    reg = RandomForestRegressor(max_depth = 33,  max_features = 36, min_samples_leaf = 4, min_samples_split=split, n_jobs=-1,random_state=8)\n",
    "    scores = cross_val_score(reg, XTrain2, yTrain2, cv = 3, scoring = 'roc_auc', n_jobs=-1)\n",
    "    auc.append(np.mean(scores))\n",
    "    param.append(split)\n",
    "\n",
    "# Gráfica del desempeño del modelo vs la cantidad de max_depth\n",
    "plt.plot(min_samples_split, auc)\n",
    "plt.xlabel('split')\n",
    "plt.ylabel('AUC')\n",
    "\n",
    "print(f'El parámetro min split que mejor calibra el modelo es {auc.index(max(auc)) + 1}')\n",
    "print(f'El parámetro min split que mejor calibra el modelo es {param[auc.index(max(auc))]}')"
   ]
  },
  {
   "cell_type": "code",
   "execution_count": null,
   "metadata": {
    "id": "BRuH5Ni5kTGb",
    "outputId": "c07369e6-fc34-4ab8-d28c-b0eadefed0a4"
   },
   "outputs": [
    {
     "name": "stdout",
     "output_type": "stream",
     "text": [
      "El parámetro estimator que mejor calibra el modelo es 7\n",
      "El parámetro estimator que mejor calibra el modelo es 1000\n"
     ]
    },
    {
     "data": {
      "image/png": "[encoded data removed]",
      "text/plain": [
       "<Figure size 432x288 with 1 Axes>"
      ]
     },
     "metadata": {
      "needs_background": "light"
     },
     "output_type": "display_data"
    }
   ],
   "source": [
    "auc=[]\n",
    "param=[]\n",
    "for estimator in estimator_range:\n",
    "    reg = RandomForestRegressor(max_depth = 33,  max_features = 36, min_samples_leaf = 4, min_samples_split=13,n_estimators=estimator, n_jobs=-1,random_state=8)\n",
    "    scores = cross_val_score(reg, XTrain2, yTrain2, cv = 3, scoring = 'roc_auc', n_jobs=-1)\n",
    "    auc.append(np.mean(scores))\n",
    "    param.append(estimator)\n",
    "\n",
    "# Gráfica del desempeño del modelo vs la cantidad de max_depth\n",
    "plt.plot(estimator_range, auc)\n",
    "plt.xlabel('estimator')\n",
    "plt.ylabel('AUC')\n",
    "\n",
    "print(f'El parámetro estimator que mejor calibra el modelo es {auc.index(max(auc)) + 1}')\n",
    "print(f'El parámetro estimator que mejor calibra el modelo es {param[auc.index(max(auc))]}')"
   ]
  },
  {
   "cell_type": "code",
   "execution_count": null,
   "metadata": {
    "id": "O7ANQMtPkTGd",
    "outputId": "6bb91a30-3af5-4589-96a2-0b0b464c0b8e"
   },
   "outputs": [
    {
     "name": "stdout",
     "output_type": "stream",
     "text": [
      "El parámetro max_depth que mejor calibra el modelo es 17\n",
      "El parámetro max_depth que mejor calibra el modelo es 33\n"
     ]
    },
    {
     "data": {
      "image/png": "[encoded data removed]",
      "text/plain": [
       "<Figure size 432x288 with 1 Axes>"
      ]
     },
     "metadata": {
      "needs_background": "light"
     },
     "output_type": "display_data"
    }
   ],
   "source": [
    "auc=[]\n",
    "param=[]\n",
    "for max_depth in max_depth_range:\n",
    "    reg = RandomForestRegressor(max_depth = max_depth, max_features = 36, min_samples_leaf = 4, min_samples_split=13,n_estimators=500, n_jobs=-1,random_state=8)\n",
    "    scores = cross_val_score(reg, XTrain2, yTrain2, cv = 3, scoring = 'roc_auc', n_jobs=-1)\n",
    "    auc.append(np.mean(scores))\n",
    "    param.append(max_depth)\n",
    "\n",
    "# Gráfica del desempeño del modelo vs la cantidad de max_depth\n",
    "plt.plot(max_depth_range, auc)\n",
    "plt.xlabel('max_depth')\n",
    "plt.ylabel('AUC')\n",
    "\n",
    "print(f'El parámetro max_depth que mejor calibra el modelo es {auc.index(max(auc)) + 1}')\n",
    "print(f'El parámetro max_depth que mejor calibra el modelo es {param[auc.index(max(auc))]}')"
   ]
  },
  {
   "cell_type": "code",
   "execution_count": null,
   "metadata": {
    "colab": {
     "base_uri": "https://localhost:8080/"
    },
    "executionInfo": {
     "elapsed": 181434,
     "status": "ok",
     "timestamp": 1684715456062,
     "user": {
      "displayName": "Oscar Andres Patino Patarroyo",
      "userId": "14256463387961091998"
     },
     "user_tz": 300
    },
    "id": "CtN_Kf1pkTGf",
    "outputId": "9e99c1fd-fd45-4150-f181-00447e589171"
   },
   "outputs": [
    {
     "name": "stdout",
     "output_type": "stream",
     "text": [
      "El AUC del modelo es de 0.82330500365191\n",
      "El R2 del modelo es de 0.1491979092910368\n",
      "\n",
      "El AUC del modelo en Train es de 0.9866551256276566\n",
      "El R2 del modelo en Train es de 0.3728736524392131\n"
     ]
    }
   ],
   "source": [
    "clfRF21 = OneVsRestClassifier(RandomForestClassifier(max_depth = 33, max_features = 36, min_samples_leaf = 4, min_samples_split = 13, n_estimators=500, n_jobs=-1,random_state=8))\n",
    "clfRF21.fit(XTrain4, yTrain4)\n",
    "ypredTrRF2 = clfRF21.predict_proba(XTrain4)\n",
    "ypredRF2 = clfRF21.predict_proba(XTest4)\n",
    "\n",
    "calculo_metrica(ypredRF2, yTest4, ypredTrRF2, yTrain4)"
   ]
  },
  {
   "cell_type": "code",
   "execution_count": null,
   "metadata": {
    "collapsed": true,
    "id": "EM1kvrSYkTGj",
    "jupyter": {
     "outputs_hidden": true
    },
    "outputId": "11bd9ac9-2a5c-447f-8ee2-5da637ab4758",
    "tags": []
   },
   "outputs": [
    {
     "ename": "ValueError",
     "evalue": "Must pass 2-d input. shape=(24, 3383, 2)",
     "output_type": "error",
     "traceback": [
      "\u001b[1;31m---------------------------------------------------------------------------\u001b[0m",
      "\u001b[1;31mValueError\u001b[0m                                Traceback (most recent call last)",
      "\u001b[1;32m~\\AppData\\Local\\Temp/ipykernel_5296/2813406352.py\u001b[0m in \u001b[0;36m<module>\u001b[1;34m\u001b[0m\n\u001b[0;32m      1\u001b[0m \u001b[0mX_test_dtm\u001b[0m \u001b[1;33m=\u001b[0m \u001b[0mvect2\u001b[0m\u001b[1;33m.\u001b[0m\u001b[0mtransform\u001b[0m\u001b[1;33m(\u001b[0m\u001b[0mdataTesting\u001b[0m\u001b[1;33m[\u001b[0m\u001b[1;34m'plot'\u001b[0m\u001b[1;33m]\u001b[0m\u001b[1;33m)\u001b[0m\u001b[1;33m\u001b[0m\u001b[1;33m\u001b[0m\u001b[0m\n\u001b[1;32m----> 2\u001b[1;33m \u001b[0mguardar\u001b[0m\u001b[1;33m(\u001b[0m\u001b[0mregRF2\u001b[0m\u001b[1;33m,\u001b[0m\u001b[0mX_test_dtm\u001b[0m\u001b[1;33m,\u001b[0m\u001b[1;34m\"RF1_opt\"\u001b[0m\u001b[1;33m)\u001b[0m\u001b[1;33m\u001b[0m\u001b[1;33m\u001b[0m\u001b[0m\n\u001b[0m",
      "\u001b[1;32m~\\AppData\\Local\\Temp/ipykernel_5296/3697913664.py\u001b[0m in \u001b[0;36mguardar\u001b[1;34m(modelo, XTest, nombre)\u001b[0m\n\u001b[0;32m      4\u001b[0m         \u001b[1;34m'p_Fantasy'\u001b[0m\u001b[1;33m,\u001b[0m \u001b[1;34m'p_Film-Noir'\u001b[0m\u001b[1;33m,\u001b[0m \u001b[1;34m'p_History'\u001b[0m\u001b[1;33m,\u001b[0m \u001b[1;34m'p_Horror'\u001b[0m\u001b[1;33m,\u001b[0m \u001b[1;34m'p_Music'\u001b[0m\u001b[1;33m,\u001b[0m \u001b[1;34m'p_Musical'\u001b[0m\u001b[1;33m,\u001b[0m \u001b[1;34m'p_Mystery'\u001b[0m\u001b[1;33m,\u001b[0m \u001b[1;34m'p_News'\u001b[0m\u001b[1;33m,\u001b[0m \u001b[1;34m'p_Romance'\u001b[0m\u001b[1;33m,\u001b[0m\u001b[1;33m\u001b[0m\u001b[1;33m\u001b[0m\u001b[0m\n\u001b[0;32m      5\u001b[0m         'p_Sci-Fi', 'p_Short', 'p_Sport', 'p_Thriller', 'p_War', 'p_Western']\n\u001b[1;32m----> 6\u001b[1;33m     \u001b[0mypred\u001b[0m \u001b[1;33m=\u001b[0m \u001b[0mpd\u001b[0m\u001b[1;33m.\u001b[0m\u001b[0mDataFrame\u001b[0m\u001b[1;33m(\u001b[0m\u001b[0mypred\u001b[0m\u001b[1;33m,\u001b[0m\u001b[0mindex\u001b[0m\u001b[1;33m=\u001b[0m\u001b[0mdataTesting\u001b[0m\u001b[1;33m.\u001b[0m\u001b[0mindex\u001b[0m\u001b[1;33m,\u001b[0m \u001b[0mcolumns\u001b[0m\u001b[1;33m=\u001b[0m\u001b[0mcols\u001b[0m\u001b[1;33m)\u001b[0m\u001b[1;33m\u001b[0m\u001b[1;33m\u001b[0m\u001b[0m\n\u001b[0m\u001b[0;32m      7\u001b[0m     \u001b[1;31m# Guardar predicciones en formato exigido en la competencia de kaggle\u001b[0m\u001b[1;33m\u001b[0m\u001b[1;33m\u001b[0m\u001b[0m\n\u001b[0;32m      8\u001b[0m     \u001b[0marchivo\u001b[0m \u001b[1;33m=\u001b[0m \u001b[0mnombre\u001b[0m \u001b[1;33m+\u001b[0m \u001b[1;34m'.csv'\u001b[0m\u001b[1;33m\u001b[0m\u001b[1;33m\u001b[0m\u001b[0m\n",
      "\u001b[1;32mC:\\ProgramData\\Anaconda3\\lib\\site-packages\\pandas\\core\\frame.py\u001b[0m in \u001b[0;36m__init__\u001b[1;34m(self, data, index, columns, dtype, copy)\u001b[0m\n\u001b[0;32m    709\u001b[0m                     )\n\u001b[0;32m    710\u001b[0m                 \u001b[1;32melse\u001b[0m\u001b[1;33m:\u001b[0m\u001b[1;33m\u001b[0m\u001b[1;33m\u001b[0m\u001b[0m\n\u001b[1;32m--> 711\u001b[1;33m                     mgr = ndarray_to_mgr(\n\u001b[0m\u001b[0;32m    712\u001b[0m                         \u001b[0mdata\u001b[0m\u001b[1;33m,\u001b[0m\u001b[1;33m\u001b[0m\u001b[1;33m\u001b[0m\u001b[0m\n\u001b[0;32m    713\u001b[0m                         \u001b[0mindex\u001b[0m\u001b[1;33m,\u001b[0m\u001b[1;33m\u001b[0m\u001b[1;33m\u001b[0m\u001b[0m\n",
      "\u001b[1;32mC:\\ProgramData\\Anaconda3\\lib\\site-packages\\pandas\\core\\internals\\construction.py\u001b[0m in \u001b[0;36mndarray_to_mgr\u001b[1;34m(values, index, columns, dtype, copy, typ)\u001b[0m\n\u001b[0;32m    302\u001b[0m         \u001b[1;31m# by definition an array here\u001b[0m\u001b[1;33m\u001b[0m\u001b[1;33m\u001b[0m\u001b[0m\n\u001b[0;32m    303\u001b[0m         \u001b[1;31m# the dtypes will be coerced to a single dtype\u001b[0m\u001b[1;33m\u001b[0m\u001b[1;33m\u001b[0m\u001b[0m\n\u001b[1;32m--> 304\u001b[1;33m         \u001b[0mvalues\u001b[0m \u001b[1;33m=\u001b[0m \u001b[0m_prep_ndarray\u001b[0m\u001b[1;33m(\u001b[0m\u001b[0mvalues\u001b[0m\u001b[1;33m,\u001b[0m \u001b[0mcopy\u001b[0m\u001b[1;33m=\u001b[0m\u001b[0mcopy\u001b[0m\u001b[1;33m)\u001b[0m\u001b[1;33m\u001b[0m\u001b[1;33m\u001b[0m\u001b[0m\n\u001b[0m\u001b[0;32m    305\u001b[0m \u001b[1;33m\u001b[0m\u001b[0m\n\u001b[0;32m    306\u001b[0m     \u001b[1;32mif\u001b[0m \u001b[0mdtype\u001b[0m \u001b[1;32mis\u001b[0m \u001b[1;32mnot\u001b[0m \u001b[1;32mNone\u001b[0m \u001b[1;32mand\u001b[0m \u001b[1;32mnot\u001b[0m \u001b[0mis_dtype_equal\u001b[0m\u001b[1;33m(\u001b[0m\u001b[0mvalues\u001b[0m\u001b[1;33m.\u001b[0m\u001b[0mdtype\u001b[0m\u001b[1;33m,\u001b[0m \u001b[0mdtype\u001b[0m\u001b[1;33m)\u001b[0m\u001b[1;33m:\u001b[0m\u001b[1;33m\u001b[0m\u001b[1;33m\u001b[0m\u001b[0m\n",
      "\u001b[1;32mC:\\ProgramData\\Anaconda3\\lib\\site-packages\\pandas\\core\\internals\\construction.py\u001b[0m in \u001b[0;36m_prep_ndarray\u001b[1;34m(values, copy)\u001b[0m\n\u001b[0;32m    553\u001b[0m         \u001b[0mvalues\u001b[0m \u001b[1;33m=\u001b[0m \u001b[0mvalues\u001b[0m\u001b[1;33m.\u001b[0m\u001b[0mreshape\u001b[0m\u001b[1;33m(\u001b[0m\u001b[1;33m(\u001b[0m\u001b[0mvalues\u001b[0m\u001b[1;33m.\u001b[0m\u001b[0mshape\u001b[0m\u001b[1;33m[\u001b[0m\u001b[1;36m0\u001b[0m\u001b[1;33m]\u001b[0m\u001b[1;33m,\u001b[0m \u001b[1;36m1\u001b[0m\u001b[1;33m)\u001b[0m\u001b[1;33m)\u001b[0m\u001b[1;33m\u001b[0m\u001b[1;33m\u001b[0m\u001b[0m\n\u001b[0;32m    554\u001b[0m     \u001b[1;32melif\u001b[0m \u001b[0mvalues\u001b[0m\u001b[1;33m.\u001b[0m\u001b[0mndim\u001b[0m \u001b[1;33m!=\u001b[0m \u001b[1;36m2\u001b[0m\u001b[1;33m:\u001b[0m\u001b[1;33m\u001b[0m\u001b[1;33m\u001b[0m\u001b[0m\n\u001b[1;32m--> 555\u001b[1;33m         \u001b[1;32mraise\u001b[0m \u001b[0mValueError\u001b[0m\u001b[1;33m(\u001b[0m\u001b[1;34mf\"Must pass 2-d input. shape={values.shape}\"\u001b[0m\u001b[1;33m)\u001b[0m\u001b[1;33m\u001b[0m\u001b[1;33m\u001b[0m\u001b[0m\n\u001b[0m\u001b[0;32m    556\u001b[0m \u001b[1;33m\u001b[0m\u001b[0m\n\u001b[0;32m    557\u001b[0m     \u001b[1;32mreturn\u001b[0m \u001b[0mvalues\u001b[0m\u001b[1;33m\u001b[0m\u001b[1;33m\u001b[0m\u001b[0m\n",
      "\u001b[1;31mValueError\u001b[0m: Must pass 2-d input. shape=(24, 3383, 2)"
     ]
    }
   ],
   "source": [
    "X_test_dtm = vect2.transform(dataTesting['plot'])\n",
    "guardar(regRF2,X_test_dtm,\"RF1_opt\")"
   ]
  },
  {
   "cell_type": "code",
   "execution_count": null,
   "metadata": {
    "id": "NG0pgl-xkTGo",
    "outputId": "1c3a5501-2b79-43fb-e2b2-1060a255fbce"
   },
   "outputs": [
    {
     "data": {
      "text/html": [
       "<div>\n",
       "<style scoped>\n",
       "    .dataframe tbody tr th:only-of-type {\n",
       "        vertical-align: middle;\n",
       "    }\n",
       "\n",
       "    .dataframe tbody tr th {\n",
       "        vertical-align: top;\n",
       "    }\n",
       "\n",
       "    .dataframe thead th {\n",
       "        text-align: right;\n",
       "    }\n",
       "</style>\n",
       "<table border=\"1\" class=\"dataframe\">\n",
       "  <thead>\n",
       "    <tr style=\"text-align: right;\">\n",
       "      <th></th>\n",
       "      <th>p_Action</th>\n",
       "      <th>p_Adventure</th>\n",
       "      <th>p_Animation</th>\n",
       "      <th>p_Biography</th>\n",
       "      <th>p_Comedy</th>\n",
       "      <th>p_Crime</th>\n",
       "      <th>p_Documentary</th>\n",
       "      <th>p_Drama</th>\n",
       "      <th>p_Family</th>\n",
       "      <th>p_Fantasy</th>\n",
       "      <th>...</th>\n",
       "      <th>p_Musical</th>\n",
       "      <th>p_Mystery</th>\n",
       "      <th>p_News</th>\n",
       "      <th>p_Romance</th>\n",
       "      <th>p_Sci-Fi</th>\n",
       "      <th>p_Short</th>\n",
       "      <th>p_Sport</th>\n",
       "      <th>p_Thriller</th>\n",
       "      <th>p_War</th>\n",
       "      <th>p_Western</th>\n",
       "    </tr>\n",
       "  </thead>\n",
       "  <tbody>\n",
       "    <tr>\n",
       "      <th>1</th>\n",
       "      <td>0.097205</td>\n",
       "      <td>0.089558</td>\n",
       "      <td>0.019884</td>\n",
       "      <td>0.031337</td>\n",
       "      <td>0.349968</td>\n",
       "      <td>0.117599</td>\n",
       "      <td>0.032763</td>\n",
       "      <td>0.498448</td>\n",
       "      <td>0.062726</td>\n",
       "      <td>0.100186</td>\n",
       "      <td>...</td>\n",
       "      <td>0.051367</td>\n",
       "      <td>0.060418</td>\n",
       "      <td>0.000075</td>\n",
       "      <td>0.347146</td>\n",
       "      <td>0.047831</td>\n",
       "      <td>0.016613</td>\n",
       "      <td>0.018564</td>\n",
       "      <td>0.174757</td>\n",
       "      <td>0.018605</td>\n",
       "      <td>0.017646</td>\n",
       "    </tr>\n",
       "    <tr>\n",
       "      <th>4</th>\n",
       "      <td>0.104273</td>\n",
       "      <td>0.094230</td>\n",
       "      <td>0.031378</td>\n",
       "      <td>0.054876</td>\n",
       "      <td>0.334477</td>\n",
       "      <td>0.174717</td>\n",
       "      <td>0.042867</td>\n",
       "      <td>0.528538</td>\n",
       "      <td>0.070962</td>\n",
       "      <td>0.047878</td>\n",
       "      <td>...</td>\n",
       "      <td>0.029876</td>\n",
       "      <td>0.051700</td>\n",
       "      <td>0.000542</td>\n",
       "      <td>0.146826</td>\n",
       "      <td>0.038398</td>\n",
       "      <td>0.009322</td>\n",
       "      <td>0.012048</td>\n",
       "      <td>0.190885</td>\n",
       "      <td>0.026132</td>\n",
       "      <td>0.013099</td>\n",
       "    </tr>\n",
       "    <tr>\n",
       "      <th>5</th>\n",
       "      <td>0.179541</td>\n",
       "      <td>0.098119</td>\n",
       "      <td>0.021050</td>\n",
       "      <td>0.079601</td>\n",
       "      <td>0.281750</td>\n",
       "      <td>0.459855</td>\n",
       "      <td>0.045956</td>\n",
       "      <td>0.650316</td>\n",
       "      <td>0.067582</td>\n",
       "      <td>0.092579</td>\n",
       "      <td>...</td>\n",
       "      <td>0.064097</td>\n",
       "      <td>0.248410</td>\n",
       "      <td>0.000343</td>\n",
       "      <td>0.287726</td>\n",
       "      <td>0.097470</td>\n",
       "      <td>0.011438</td>\n",
       "      <td>0.038280</td>\n",
       "      <td>0.434039</td>\n",
       "      <td>0.057276</td>\n",
       "      <td>0.032586</td>\n",
       "    </tr>\n",
       "    <tr>\n",
       "      <th>6</th>\n",
       "      <td>0.153771</td>\n",
       "      <td>0.102732</td>\n",
       "      <td>0.016300</td>\n",
       "      <td>0.058946</td>\n",
       "      <td>0.311637</td>\n",
       "      <td>0.129329</td>\n",
       "      <td>0.075960</td>\n",
       "      <td>0.580797</td>\n",
       "      <td>0.068316</td>\n",
       "      <td>0.067708</td>\n",
       "      <td>...</td>\n",
       "      <td>0.048648</td>\n",
       "      <td>0.107899</td>\n",
       "      <td>0.002598</td>\n",
       "      <td>0.270265</td>\n",
       "      <td>0.123639</td>\n",
       "      <td>0.006031</td>\n",
       "      <td>0.031832</td>\n",
       "      <td>0.302042</td>\n",
       "      <td>0.072363</td>\n",
       "      <td>0.022577</td>\n",
       "    </tr>\n",
       "    <tr>\n",
       "      <th>7</th>\n",
       "      <td>0.210300</td>\n",
       "      <td>0.144137</td>\n",
       "      <td>0.021058</td>\n",
       "      <td>0.055252</td>\n",
       "      <td>0.328511</td>\n",
       "      <td>0.249707</td>\n",
       "      <td>0.057604</td>\n",
       "      <td>0.394253</td>\n",
       "      <td>0.077430</td>\n",
       "      <td>0.149217</td>\n",
       "      <td>...</td>\n",
       "      <td>0.030345</td>\n",
       "      <td>0.097792</td>\n",
       "      <td>0.001181</td>\n",
       "      <td>0.200954</td>\n",
       "      <td>0.313086</td>\n",
       "      <td>0.016419</td>\n",
       "      <td>0.019441</td>\n",
       "      <td>0.280485</td>\n",
       "      <td>0.026034</td>\n",
       "      <td>0.021887</td>\n",
       "    </tr>\n",
       "  </tbody>\n",
       "</table>\n",
       "<p>5 rows × 24 columns</p>\n",
       "</div>"
      ],
      "text/plain": [
       "   p_Action  p_Adventure  p_Animation  p_Biography  p_Comedy   p_Crime  \\\n",
       "1  0.097205     0.089558     0.019884     0.031337  0.349968  0.117599   \n",
       "4  0.104273     0.094230     0.031378     0.054876  0.334477  0.174717   \n",
       "5  0.179541     0.098119     0.021050     0.079601  0.281750  0.459855   \n",
       "6  0.153771     0.102732     0.016300     0.058946  0.311637  0.129329   \n",
       "7  0.210300     0.144137     0.021058     0.055252  0.328511  0.249707   \n",
       "\n",
       "   p_Documentary   p_Drama  p_Family  p_Fantasy  ...  p_Musical  p_Mystery  \\\n",
       "1       0.032763  0.498448  0.062726   0.100186  ...   0.051367   0.060418   \n",
       "4       0.042867  0.528538  0.070962   0.047878  ...   0.029876   0.051700   \n",
       "5       0.045956  0.650316  0.067582   0.092579  ...   0.064097   0.248410   \n",
       "6       0.075960  0.580797  0.068316   0.067708  ...   0.048648   0.107899   \n",
       "7       0.057604  0.394253  0.077430   0.149217  ...   0.030345   0.097792   \n",
       "\n",
       "     p_News  p_Romance  p_Sci-Fi   p_Short   p_Sport  p_Thriller     p_War  \\\n",
       "1  0.000075   0.347146  0.047831  0.016613  0.018564    0.174757  0.018605   \n",
       "4  0.000542   0.146826  0.038398  0.009322  0.012048    0.190885  0.026132   \n",
       "5  0.000343   0.287726  0.097470  0.011438  0.038280    0.434039  0.057276   \n",
       "6  0.002598   0.270265  0.123639  0.006031  0.031832    0.302042  0.072363   \n",
       "7  0.001181   0.200954  0.313086  0.016419  0.019441    0.280485  0.026034   \n",
       "\n",
       "   p_Western  \n",
       "1   0.017646  \n",
       "4   0.013099  \n",
       "5   0.032586  \n",
       "6   0.022577  \n",
       "7   0.021887  \n",
       "\n",
       "[5 rows x 24 columns]"
      ]
     },
     "execution_count": 141,
     "metadata": {},
     "output_type": "execute_result"
    }
   ],
   "source": [
    "X_test_dtm = vect2.transform(dataTesting['plot'])\n",
    "cols = ['p_Action', 'p_Adventure', 'p_Animation', 'p_Biography', 'p_Comedy', 'p_Crime', 'p_Documentary', 'p_Drama', 'p_Family',\n",
    "        'p_Fantasy', 'p_Film-Noir', 'p_History', 'p_Horror', 'p_Music', 'p_Musical', 'p_Mystery', 'p_News', 'p_Romance',\n",
    "        'p_Sci-Fi', 'p_Short', 'p_Sport', 'p_Thriller', 'p_War', 'p_Western']\n",
    "\n",
    "# Predicción del conjunto de test\n",
    "y_pred_test_genres = clfRF21.predict_proba(X_test_dtm)\n",
    "\n",
    "# Guardar predicciones en formato exigido en la competencia de kaggle\n",
    "res = pd.DataFrame(y_pred_test_genres, index=dataTesting.index, columns=cols)\n",
    "res.to_csv('RF_op1.csv', index_label='ID')\n",
    "res.head()"
   ]
  },
  {
   "cell_type": "markdown",
   "metadata": {
    "id": "W9fEPhrFkTGq"
   },
   "source": [
    "## XGB"
   ]
  },
  {
   "cell_type": "code",
   "execution_count": null,
   "metadata": {
    "id": "0b_2dBkDkTGq"
   },
   "outputs": [],
   "source": [
    "#n_estimators=1000, scale_pos_weight=1, reg_alpha= 0.005\n",
    "param_test = {\n",
    "    'learning_rate':[0.01,0.05,0.1,0.15],\n",
    "    'gamma':[i/10.0 for i in range(0,5)],\n",
    "    'colsample_bytree':[i/10.0 for i in range(6,10)],\n",
    "    'max_depth':[6,8,10],\n",
    "    'min_child_weight':[4,5,6],\n",
    "    'subsample':[i/10.0 for i in range(6,10)]\n",
    "}\n",
    "gsearch2 = GridSearchCV(estimator = OneVsRestClassifier(XGBRegressor(n_jobs=-1,seed=8)), \n",
    " param_grid = param_test, scoring='auc',n_jobs=-1, cv=3, verbose=True)\n",
    "gsearch2.fit(XTrain,yTrain)\n",
    "gsearch2.best_params_, gsearch2.best_score_"
   ]
  },
  {
   "cell_type": "code",
   "execution_count": null,
   "metadata": {
    "id": "tBBmSiLzkTGr"
   },
   "outputs": [],
   "source": [
    "param_test = {\n",
    "    'n_estimators':[i for i in range(100,750,50)]\n",
    "}\n",
    "gsearch3 = GridSearchCV(estimator = XGBClassifier(learning_rate = 0.15, max_depth=10, min_child_weight=6,gamma=0,\n",
    "                                                 subsample=0.9, colsample_bytree=0.6, nthread=4, scale_pos_weight=1, \n",
    "                                                 reg_alpha= 0.005,seed=27, n_jobs=-1),\n",
    "                        param_grid = param_test, scoring='neg_root_mean_squared_error',n_jobs=-1, cv=3, verbose=True)\n",
    "gsearch3.fit(XTrain,yTrain)\n",
    "gsearch3.best_params_, gsearch2.best_score_"
   ]
  },
  {
   "cell_type": "code",
   "execution_count": null,
   "metadata": {
    "id": "IkUXt1cAkTGt",
    "outputId": "278e4e3a-498c-425d-ff66-1f0810e049d4"
   },
   "outputs": [
    {
     "name": "stdout",
     "output_type": "stream",
     "text": [
      "Los mejores parametros segun Randomnized Search: {'subsample': 0.9, 'min_child_weight': 5, 'max_depth': 10, 'learning_rate': 0.15, 'gamma': 0.3, 'colsample_bytree': 0.7}\n",
      "Los mejores parametros segun Randomnized Search: 0.09377954244658726\n"
     ]
    }
   ],
   "source": [
    "# Definición método GridSearch para la calibración de parámetros definidos en nn_params\n",
    "#OneVsRestClassifier()\n",
    "modelo = XGBClassifier(n_jobs=-1,seed=8)\n",
    "param_test = {\n",
    "    'learning_rate':[0.01,0.05,0.1,0.15],\n",
    "    'gamma':[i/10.0 for i in range(0,5)],\n",
    "    'colsample_bytree':[i/10.0 for i in range(6,10)],\n",
    "    'max_depth':[6,8,10],\n",
    "    'min_child_weight':[4,5,6],\n",
    "    'subsample':[i/10.0 for i in range(6,10)]}\n",
    "    \n",
    "rs = RandomizedSearchCV(modelo, param_distributions=param_test, n_iter=5, cv=3)\n",
    "rs.fit(XTrain2, yTrain2)\n",
    "\n",
    "print('Los mejores parametros segun Randomnized Search:', rs.best_params_)\n",
    "print('Los mejores parametros segun Randomnized Search:', rs.best_score_)"
   ]
  },
  {
   "cell_type": "code",
   "execution_count": null,
   "metadata": {
    "id": "8BEdgbtIkTGu"
   },
   "outputs": [],
   "source": [
    "# Implementación y ajuste del modelo de regresión de Random Forest calibrado con los datos de entrenamiento\n",
    "regXGB1 = OneVsRestClassifier(XGBClassifier(learning_rate = 0.15, n_estimators=300, max_depth=10, min_child_weight=5, \n",
    "                       gamma=0.3, subsample=0.9, colsample_bytree=0.7, nthread=4, reg_alpha= 0.01, \n",
    "                       seed=27, n_jobs=-1)).fit(XTrain2, yTrain2)"
   ]
  },
  {
   "cell_type": "code",
   "execution_count": null,
   "metadata": {
    "id": "sKoP3SITkTGv",
    "outputId": "3ac0d1cc-42f7-4c63-eb96-1c7ea4339d34"
   },
   "outputs": [
    {
     "name": "stdout",
     "output_type": "stream",
     "text": [
      "El AUC del modelo es de 0.8002062029495267\n",
      "El R2 del modelo es de 0.1560865781317184\n",
      "\n",
      "El AUC del modelo en Train es de 0.9738304482214067\n",
      "El R2 del modelo en Train es de 0.6443343578213744\n"
     ]
    }
   ],
   "source": [
    "ypredTrXGB1 = regXGB1.predict_proba(XTrain2)\n",
    "ypredXGB1 = regXGB1.predict_proba(XTest2)\n",
    "calculo_metrica(ypredXGB1,yTest2,ypredTrXGB1,yTrain2)"
   ]
  },
  {
   "cell_type": "code",
   "execution_count": null,
   "metadata": {
    "id": "35ehaDeSkTGv"
   },
   "outputs": [],
   "source": [
    "# Implementación y ajuste del modelo de regresión de Random Forest calibrado con los datos de entrenamiento\n",
    "regXGB = XGBClassifier(learning_rate = 0.15, n_estimators=300, max_depth=10, min_child_weight=5, \n",
    "                       gamma=0.3, subsample=0.9, colsample_bytree=0.7, nthread=4, reg_alpha= 0.01, \n",
    "                       seed=27, n_jobs=-1).fit(XTrain2, yTrain2)"
   ]
  },
  {
   "cell_type": "code",
   "execution_count": null,
   "metadata": {
    "id": "XJ4qiFMMkTGy",
    "outputId": "de429937-16d2-424f-ad5c-d431705b18db",
    "scrolled": true
   },
   "outputs": [
    {
     "name": "stdout",
     "output_type": "stream",
     "text": [
      "El AUC del modelo es de 0.8010499774510018\n",
      "El R2 del modelo es de 0.15708164240132724\n",
      "\n",
      "El AUC del modelo en Train es de 0.9742033074018682\n",
      "El R2 del modelo en Train es de 0.6438373248808781\n"
     ]
    }
   ],
   "source": [
    "ypredTrXGB = regXGB.predict_proba(XTrain2)\n",
    "ypredXGB = regXGB.predict_proba(XTest2)\n",
    "calculo_metrica(ypredXGB,yTest2,ypredTrXGB,yTrain2)"
   ]
  },
  {
   "cell_type": "markdown",
   "metadata": {
    "id": "WudDoTkAkTG3"
   },
   "source": [
    "### XGB Calibración"
   ]
  },
  {
   "cell_type": "code",
   "execution_count": null,
   "metadata": {
    "id": "qQi6VMLDkTG9"
   },
   "outputs": [],
   "source": [
    "learning_rate_range = np.arange(0.01, 0.7, 0.03)\n",
    "gamma_range=[i/10.0 for i in range(0,20,2)]\n",
    "colsample_bytree_range = [i/10.0 for i in range(6,10)]\n",
    "max_depth_range = range(1,35,2)\n",
    "min_child_weight_range =range(1,36,4)\n",
    "subsample_range =[i/10.0 for i in range(6,10)]\n",
    "auc=[]\n",
    "param=[]"
   ]
  },
  {
   "cell_type": "code",
   "execution_count": null,
   "metadata": {
    "id": "YpJpuDJCkTG-",
    "outputId": "b6ca7db7-2d28-4b30-e9f7-479ad27276d3"
   },
   "outputs": [
    {
     "name": "stdout",
     "output_type": "stream",
     "text": [
      "El parámetro que mejor calibra el modelo es 7\n",
      "El parámetro que mejor calibra el modelo es 0.19\n"
     ]
    },
    {
     "data": {
      "image/png": "[encoded data removed]",
      "text/plain": [
       "<Figure size 432x288 with 1 Axes>"
      ]
     },
     "metadata": {
      "needs_background": "light"
     },
     "output_type": "display_data"
    }
   ],
   "source": [
    "for learning_rate in learning_rate_range:\n",
    "    clf = OneVsRestClassifier(XGBClassifier(learning_rate = learning_rate, n_jobs=-1,seed=8))\n",
    "    scores = cross_val_score(clf, XTrain2, yTrain2, cv = 3, scoring = 'roc_auc', n_jobs=-1)\n",
    "    auc.append(np.mean(scores))\n",
    "    param.append(learning_rate)\n",
    "\n",
    "# Gráfica del desempeño del modelo vs la cantidad de max_depth\n",
    "plt.plot(learning_rate_range, auc)\n",
    "plt.xlabel('learning_rate')\n",
    "plt.ylabel('AUC')\n",
    "\n",
    "print(f'El parámetro que mejor calibra el modelo es {auc.index(max(auc)) + 1}')\n",
    "print(f'El parámetro que mejor calibra el modelo es {param[auc.index(max(auc))]}')"
   ]
  },
  {
   "cell_type": "code",
   "execution_count": null,
   "metadata": {
    "id": "FmZxGyFTkTHn",
    "outputId": "c0c36e3e-f3d0-4281-d995-a8964b6e7d9f"
   },
   "outputs": [
    {
     "name": "stdout",
     "output_type": "stream",
     "text": [
      "El parámetro que mejor calibra el modelo es 4\n",
      "El parámetro que mejor calibra el modelo es 0.6\n"
     ]
    },
    {
     "data": {
      "image/png": "[encoded data removed]",
      "text/plain": [
       "<Figure size 432x288 with 1 Axes>"
      ]
     },
     "metadata": {
      "needs_background": "light"
     },
     "output_type": "display_data"
    }
   ],
   "source": [
    "learning_rate = 0.19\n",
    "auc=[]\n",
    "param=[]\n",
    "for gamma in gamma_range:\n",
    "    reg = OneVsRestClassifier(XGBClassifier(learning_rate = learning_rate, gamma=gamma, n_jobs=-1,seed=8))\n",
    "    scores = cross_val_score(reg, XTrain2, yTrain2, cv = 3, scoring = 'roc_auc', n_jobs=-1)\n",
    "    auc.append(np.mean(scores))\n",
    "    param.append(gamma)\n",
    "\n",
    "# Gráfica del desempeño del modelo vs la cantidad de max_depth\n",
    "plt.plot(gamma_range, auc)\n",
    "plt.xlabel('gamma')\n",
    "plt.ylabel('AUC')\n",
    "\n",
    "print(f'El parámetro que mejor calibra el modelo es {auc.index(max(auc)) + 1}')\n",
    "print(f'El parámetro que mejor calibra el modelo es {param[auc.index(max(auc))]}')"
   ]
  },
  {
   "cell_type": "code",
   "execution_count": null,
   "metadata": {
    "id": "GEEv2LhOkTHp",
    "outputId": "c644bdf4-c6c1-44b1-c21a-e05386391cb8"
   },
   "outputs": [
    {
     "name": "stdout",
     "output_type": "stream",
     "text": [
      "El parámetro que mejor calibra el modelo es 3\n",
      "El parámetro que mejor calibra el modelo es 0.8\n"
     ]
    },
    {
     "data": {
      "image/png": "[encoded data removed]",
      "text/plain": [
       "<Figure size 432x288 with 1 Axes>"
      ]
     },
     "metadata": {
      "needs_background": "light"
     },
     "output_type": "display_data"
    }
   ],
   "source": [
    "gamma = param[auc.index(max(auc))]\n",
    "auc=[]\n",
    "param=[]\n",
    "for colsample_bytree in colsample_bytree_range:\n",
    "    reg = OneVsRestClassifier(XGBClassifier(learning_rate = learning_rate, gamma=gamma, colsample_bytree=colsample_bytree, n_jobs=-1,seed=8))\n",
    "    scores = cross_val_score(reg, XTrain2, yTrain2, cv = 3, scoring = 'roc_auc', n_jobs=-1)\n",
    "    auc.append(np.mean(scores))\n",
    "    param.append(colsample_bytree)\n",
    "\n",
    "# Gráfica del desempeño del modelo vs la cantidad de max_depth\n",
    "plt.plot(colsample_bytree_range, auc)\n",
    "plt.xlabel('colsample_bytree')\n",
    "plt.ylabel('AUC')\n",
    "\n",
    "print(f'El parámetro que mejor calibra el modelo es {auc.index(max(auc)) + 1}')\n",
    "print(f'El parámetro que mejor calibra el modelo es {param[auc.index(max(auc))]}')"
   ]
  },
  {
   "cell_type": "code",
   "execution_count": null,
   "metadata": {
    "id": "6kBNyeerkTHu",
    "outputId": "b2b0762c-9030-4aab-e80c-d48c8d54e9d1"
   },
   "outputs": [
    {
     "name": "stdout",
     "output_type": "stream",
     "text": [
      "El parámetro que mejor calibra el modelo es 11\n",
      "El parámetro que mejor calibra el modelo es 21\n"
     ]
    },
    {
     "data": {
      "image/png": "[encoded data removed]",
      "text/plain": [
       "<Figure size 432x288 with 1 Axes>"
      ]
     },
     "metadata": {
      "needs_background": "light"
     },
     "output_type": "display_data"
    }
   ],
   "source": [
    "colsample_bytree = 0.8\n",
    "auc=[]\n",
    "param=[]\n",
    "for max_depth in max_depth_range:\n",
    "    reg = OneVsRestClassifier(XGBClassifier(learning_rate = learning_rate, gamma=gamma, colsample_bytree=colsample_bytree, max_depth=max_depth, n_jobs=-1,seed=8))\n",
    "    scores = cross_val_score(reg, XTrain2, yTrain2, cv = 3, scoring = 'roc_auc', n_jobs=-1)\n",
    "    auc.append(np.mean(scores))\n",
    "    param.append(max_depth)\n",
    "\n",
    "# Gráfica del desempeño del modelo vs la cantidad de max_depth\n",
    "plt.plot(max_depth_range, auc)\n",
    "plt.xlabel('max_depth')\n",
    "plt.ylabel('AUC')\n",
    "\n",
    "print(f'El parámetro que mejor calibra el modelo es {auc.index(max(auc)) + 1}')\n",
    "print(f'El parámetro que mejor calibra el modelo es {param[auc.index(max(auc))]}')"
   ]
  },
  {
   "cell_type": "code",
   "execution_count": null,
   "metadata": {
    "id": "axspI_ALkTHv",
    "outputId": "43e6be82-34c2-49c9-8f17-1f9993e66237"
   },
   "outputs": [
    {
     "name": "stdout",
     "output_type": "stream",
     "text": [
      "El parámetro que mejor calibra el modelo es 1\n",
      "El parámetro que mejor calibra el modelo es 1\n"
     ]
    },
    {
     "data": {
      "image/png": "[encoded data removed]",
      "text/plain": [
       "<Figure size 432x288 with 1 Axes>"
      ]
     },
     "metadata": {
      "needs_background": "light"
     },
     "output_type": "display_data"
    }
   ],
   "source": [
    "max_depth=21\n",
    "auc=[]\n",
    "param=[]\n",
    "for min_child_weight in min_child_weight_range:\n",
    "    reg = OneVsRestClassifier(XGBClassifier(learning_rate = learning_rate, gamma=gamma, colsample_bytree=colsample_bytree, max_depth=max_depth, min_child_weight=min_child_weight, n_jobs=-1,seed=8))\n",
    "    scores = cross_val_score(reg, XTrain2, yTrain2, cv = 3, scoring = 'roc_auc', n_jobs=-1)\n",
    "    auc.append(np.mean(scores))\n",
    "    param.append(min_child_weight)\n",
    "\n",
    "# Gráfica del desempeño del modelo vs la cantidad de max_depth\n",
    "plt.plot(min_child_weight_range, auc)\n",
    "plt.xlabel('min_child_weight')\n",
    "plt.ylabel('AUC')\n",
    "\n",
    "print(f'El parámetro que mejor calibra el modelo es {auc.index(max(auc)) + 1}')\n",
    "print(f'El parámetro que mejor calibra el modelo es {param[auc.index(max(auc))]}')"
   ]
  },
  {
   "cell_type": "code",
   "execution_count": null,
   "metadata": {
    "id": "23F9IEj3kTIB",
    "outputId": "247d858e-e8da-47fe-c48b-786af37a1978"
   },
   "outputs": [
    {
     "name": "stdout",
     "output_type": "stream",
     "text": [
      "El parámetro que mejor calibra el modelo es 4\n",
      "El parámetro que mejor calibra el modelo es 0.9\n"
     ]
    },
    {
     "data": {
      "image/png": "[encoded data removed]",
      "text/plain": [
       "<Figure size 432x288 with 1 Axes>"
      ]
     },
     "metadata": {
      "needs_background": "light"
     },
     "output_type": "display_data"
    }
   ],
   "source": [
    "min_child_weight=1\n",
    "auc=[]\n",
    "param=[]\n",
    "for subsample in subsample_range:\n",
    "    reg = OneVsRestClassifier(XGBClassifier(learning_rate = learning_rate, gamma=gamma, colsample_bytree=colsample_bytree, max_depth=max_depth, min_child_weight=min_child_weight,subsample=subsample, n_jobs=-1,seed=8))\n",
    "    scores = cross_val_score(reg, XTrain2, yTrain2, cv = 3, scoring = 'roc_auc', n_jobs=-1)\n",
    "    auc.append(np.mean(scores))\n",
    "    param.append(subsample)\n",
    "\n",
    "# Gráfica del desempeño del modelo vs la cantidad de max_depth\n",
    "plt.plot(subsample_range, auc)\n",
    "plt.xlabel('subsample')\n",
    "plt.ylabel('AUC')\n",
    "\n",
    "print(f'El parámetro que mejor calibra el modelo es {auc.index(max(auc)) + 1}')\n",
    "print(f'El parámetro que mejor calibra el modelo es {param[auc.index(max(auc))]}')"
   ]
  },
  {
   "cell_type": "code",
   "execution_count": null,
   "metadata": {
    "id": "Rrxc0UyjkTIO"
   },
   "outputs": [],
   "source": [
    "subsample = param[auc.index(max(auc))]"
   ]
  },
  {
   "cell_type": "code",
   "execution_count": null,
   "metadata": {
    "id": "KNkGQncb6DgP"
   },
   "outputs": [],
   "source": [
    "learning_rate = 0.19\n"
   ]
  },
  {
   "cell_type": "code",
   "execution_count": null,
   "metadata": {
    "id": "6DjF44zIkTIX"
   },
   "outputs": [],
   "source": [
    "clfXGB21 = OneVsRestClassifier(XGBClassifier(learning_rate = learning_rate, gamma=gamma, colsample_bytree=colsample_bytree, max_depth=max_depth, min_child_weight=min_child_weight,subsample=subsample, n_jobs=-1,seed=8))\n",
    "clfXGB21.fit(XTrain4, yTrain4)\n",
    "ypredTrXGB2 = clfXGB21.predict_proba(XTrain4)\n",
    "ypredXGB2 = clfXGB21.predict_proba(XTest4)\n",
    "\n",
    "calculo_metrica(ypredXGB2, yTest4, ypredTrXGB2, yTrain4)"
   ]
  },
  {
   "cell_type": "markdown",
   "metadata": {
    "id": "UL0xP_VV-Aw_"
   },
   "source": [
    "### XGB RandomSearch"
   ]
  },
  {
   "cell_type": "code",
   "execution_count": null,
   "metadata": {
    "colab": {
     "base_uri": "https://localhost:8080/"
    },
    "id": "mKc5dflskTIY",
    "outputId": "e19d1b15-f97a-4c70-9753-a0f413396a95"
   },
   "outputs": [
    {
     "name": "stdout",
     "output_type": "stream",
     "text": [
      "Fitting 5 folds for each of 5 candidates, totalling 25 fits\n"
     ]
    }
   ],
   "source": [
    "param_test = {\n",
    "    'lr_rate':[0.15, 0.2, 0.25],\n",
    "    'gamma':[0, 0.6, 4],\n",
    "    'colsample_bytree':[0.7, 0.8],\n",
    "    'max_depth':[5,10,20],\n",
    "    'min_child_weight':[0,0.5,0.7],\n",
    "    'subsample':[0.9,1.5,3]\n",
    "}\n",
    "rs = RandomizedSearchCV(estimator = XGBClassifier(n_jobs=-1,nthread=4,seed=27),\n",
    "                        param_distributions = param_test, scoring='roc_auc',n_iter=5,n_jobs=-1, cv=5, verbose=True)\n",
    "rs.fit(XTrain4,yTrain4)"
   ]
  },
  {
   "cell_type": "code",
   "execution_count": null,
   "metadata": {
    "id": "3gIhhPN1AAIW"
   },
   "outputs": [],
   "source": [
    "rs.best_params_ , rs.best_score_"
   ]
  },
  {
   "cell_type": "code",
   "execution_count": null,
   "metadata": {
    "id": "v2UUQitR-F1o"
   },
   "outputs": [],
   "source": [
    "clfXGB21 = OneVsRestClassifier(XGBClassifier(learning_rate = 0.2, gamma=4, colsample_bytree=0.8, max_depth=20, min_child_weight=0.5,subsample=0.9, n_jobs=-1,seed=27))\n",
    "clfXGB21.fit(XTrain2, yTrain2)\n",
    "ypredTrXGB2 = clfXGB21.predict_proba(XTrain2)\n",
    "ypredXGB2 = clfXGB21.predict_proba(XTest2)\n",
    "\n",
    "calculo_metrica(ypredXGB2, yTest2, ypredTrXGB2, yTrain2)"
   ]
  },
  {
   "cell_type": "code",
   "execution_count": null,
   "metadata": {
    "id": "HCbg2Ywz-F4E"
   },
   "outputs": [],
   "source": []
  },
  {
   "cell_type": "code",
   "execution_count": null,
   "metadata": {
    "id": "DC6ziSTl-F-e"
   },
   "outputs": [],
   "source": []
  },
  {
   "cell_type": "markdown",
   "metadata": {
    "id": "qvL9JqQYspos"
   },
   "source": [
    "## SGD"
   ]
  },
  {
   "cell_type": "code",
   "execution_count": null,
   "metadata": {
    "id": "te_wtK8Iszmf"
   },
   "outputs": [],
   "source": [
    "from sklearn.linear_model import SGDClassifier"
   ]
  },
  {
   "cell_type": "code",
   "execution_count": null,
   "metadata": {
    "id": "tUEn8pFmtuvB"
   },
   "outputs": [],
   "source": [
    "model_resultstfidf = {}"
   ]
  },
  {
   "cell_type": "code",
   "execution_count": null,
   "metadata": {
    "id": "ILALofZMtE2f"
   },
   "outputs": [],
   "source": [
    "X_train, X_test, y_train_genres, y_test_genres = train_test_split(dataTraining['plot'], y_genres, test_size=0.33, random_state=42)"
   ]
  },
  {
   "cell_type": "code",
   "execution_count": null,
   "metadata": {
    "id": "Enzc-Mq6s77O"
   },
   "outputs": [],
   "source": [
    "countvec = CountVectorizer(ngram_range = (1,3), max_features = 3000)\n",
    "vec_Xtr = countvec.fit_transform(X_train)"
   ]
  },
  {
   "cell_type": "code",
   "execution_count": null,
   "metadata": {
    "id": "EXcVFLj3teft"
   },
   "outputs": [],
   "source": [
    "vectorizer = TfidfVectorizer(ngram_range = (1,1), max_df=.85, min_df=15, lowercase=False)\n",
    "tfidf_Xtr = vectorizer.fit_transform(X_train)"
   ]
  },
  {
   "cell_type": "code",
   "execution_count": null,
   "metadata": {
    "colab": {
     "base_uri": "https://localhost:8080/",
     "height": 1000
    },
    "executionInfo": {
     "elapsed": 874,
     "status": "error",
     "timestamp": 1684729699055,
     "user": {
      "displayName": "Oscar Andres Patino Patarroyo",
      "userId": "14256463387961091998"
     },
     "user_tz": 300
    },
    "id": "YNkVfWVQkTIZ",
    "outputId": "b7331375-f4a5-4a0b-f95d-8170ce3fb159"
   },
   "outputs": [
    {
     "ename": "ValueError",
     "evalue": "ignored",
     "output_type": "error",
     "traceback": [
      "\u001b[0;31m---------------------------------------------------------------------------\u001b[0m",
      "\u001b[0;31mValueError\u001b[0m                                Traceback (most recent call last)",
      "\u001b[0;32m<ipython-input-89-dd541b983915>\u001b[0m in \u001b[0;36m<cell line: 10>\u001b[0;34m()\u001b[0m\n\u001b[1;32m      8\u001b[0m \u001b[0msgd\u001b[0m \u001b[0;34m=\u001b[0m \u001b[0mSGDClassifier\u001b[0m\u001b[0;34m(\u001b[0m\u001b[0mrandom_state\u001b[0m\u001b[0;34m=\u001b[0m\u001b[0;36m42\u001b[0m\u001b[0;34m)\u001b[0m\u001b[0;34m\u001b[0m\u001b[0;34m\u001b[0m\u001b[0m\n\u001b[1;32m      9\u001b[0m \u001b[0msgd_tfidf_gs\u001b[0m \u001b[0;34m=\u001b[0m \u001b[0mGridSearchCV\u001b[0m\u001b[0;34m(\u001b[0m\u001b[0msgd\u001b[0m\u001b[0;34m,\u001b[0m \u001b[0mparam_grid\u001b[0m \u001b[0;34m=\u001b[0m \u001b[0mgrid\u001b[0m\u001b[0;34m,\u001b[0m \u001b[0mcv\u001b[0m\u001b[0;34m=\u001b[0m\u001b[0;36m5\u001b[0m\u001b[0;34m)\u001b[0m\u001b[0;34m\u001b[0m\u001b[0;34m\u001b[0m\u001b[0m\n\u001b[0;32m---> 10\u001b[0;31m \u001b[0msgd_tfidf_gs\u001b[0m\u001b[0;34m.\u001b[0m\u001b[0mfit\u001b[0m\u001b[0;34m(\u001b[0m\u001b[0mtfidf_Xtr\u001b[0m\u001b[0;34m,\u001b[0m \u001b[0my_train_genres\u001b[0m\u001b[0;34m)\u001b[0m\u001b[0;34m\u001b[0m\u001b[0;34m\u001b[0m\u001b[0m\n\u001b[0m\u001b[1;32m     11\u001b[0m \u001b[0;34m\u001b[0m\u001b[0m\n\u001b[1;32m     12\u001b[0m \u001b[0mprint\u001b[0m\u001b[0;34m(\u001b[0m\u001b[0msgd_tfidf_gs\u001b[0m\u001b[0;34m.\u001b[0m\u001b[0mbest_score_\u001b[0m\u001b[0;34m)\u001b[0m\u001b[0;34m\u001b[0m\u001b[0;34m\u001b[0m\u001b[0m\n",
      "\u001b[0;32m/usr/local/lib/python3.10/dist-packages/sklearn/model_selection/_search.py\u001b[0m in \u001b[0;36mfit\u001b[0;34m(self, X, y, groups, **fit_params)\u001b[0m\n\u001b[1;32m    872\u001b[0m                 \u001b[0;32mreturn\u001b[0m \u001b[0mresults\u001b[0m\u001b[0;34m\u001b[0m\u001b[0;34m\u001b[0m\u001b[0m\n\u001b[1;32m    873\u001b[0m \u001b[0;34m\u001b[0m\u001b[0m\n\u001b[0;32m--> 874\u001b[0;31m             \u001b[0mself\u001b[0m\u001b[0;34m.\u001b[0m\u001b[0m_run_search\u001b[0m\u001b[0;34m(\u001b[0m\u001b[0mevaluate_candidates\u001b[0m\u001b[0;34m)\u001b[0m\u001b[0;34m\u001b[0m\u001b[0;34m\u001b[0m\u001b[0m\n\u001b[0m\u001b[1;32m    875\u001b[0m \u001b[0;34m\u001b[0m\u001b[0m\n\u001b[1;32m    876\u001b[0m             \u001b[0;31m# multimetric is determined here because in the case of a callable\u001b[0m\u001b[0;34m\u001b[0m\u001b[0;34m\u001b[0m\u001b[0m\n",
      "\u001b[0;32m/usr/local/lib/python3.10/dist-packages/sklearn/model_selection/_search.py\u001b[0m in \u001b[0;36m_run_search\u001b[0;34m(self, evaluate_candidates)\u001b[0m\n\u001b[1;32m   1386\u001b[0m     \u001b[0;32mdef\u001b[0m \u001b[0m_run_search\u001b[0m\u001b[0;34m(\u001b[0m\u001b[0mself\u001b[0m\u001b[0;34m,\u001b[0m \u001b[0mevaluate_candidates\u001b[0m\u001b[0;34m)\u001b[0m\u001b[0;34m:\u001b[0m\u001b[0;34m\u001b[0m\u001b[0;34m\u001b[0m\u001b[0m\n\u001b[1;32m   1387\u001b[0m         \u001b[0;34m\"\"\"Search all candidates in param_grid\"\"\"\u001b[0m\u001b[0;34m\u001b[0m\u001b[0;34m\u001b[0m\u001b[0m\n\u001b[0;32m-> 1388\u001b[0;31m         \u001b[0mevaluate_candidates\u001b[0m\u001b[0;34m(\u001b[0m\u001b[0mParameterGrid\u001b[0m\u001b[0;34m(\u001b[0m\u001b[0mself\u001b[0m\u001b[0;34m.\u001b[0m\u001b[0mparam_grid\u001b[0m\u001b[0;34m)\u001b[0m\u001b[0;34m)\u001b[0m\u001b[0;34m\u001b[0m\u001b[0;34m\u001b[0m\u001b[0m\n\u001b[0m\u001b[1;32m   1389\u001b[0m \u001b[0;34m\u001b[0m\u001b[0m\n\u001b[1;32m   1390\u001b[0m \u001b[0;34m\u001b[0m\u001b[0m\n",
      "\u001b[0;32m/usr/local/lib/python3.10/dist-packages/sklearn/model_selection/_search.py\u001b[0m in \u001b[0;36mevaluate_candidates\u001b[0;34m(candidate_params, cv, more_results)\u001b[0m\n\u001b[1;32m    849\u001b[0m                     )\n\u001b[1;32m    850\u001b[0m \u001b[0;34m\u001b[0m\u001b[0m\n\u001b[0;32m--> 851\u001b[0;31m                 \u001b[0m_warn_or_raise_about_fit_failures\u001b[0m\u001b[0;34m(\u001b[0m\u001b[0mout\u001b[0m\u001b[0;34m,\u001b[0m \u001b[0mself\u001b[0m\u001b[0;34m.\u001b[0m\u001b[0merror_score\u001b[0m\u001b[0;34m)\u001b[0m\u001b[0;34m\u001b[0m\u001b[0;34m\u001b[0m\u001b[0m\n\u001b[0m\u001b[1;32m    852\u001b[0m \u001b[0;34m\u001b[0m\u001b[0m\n\u001b[1;32m    853\u001b[0m                 \u001b[0;31m# For callable self.scoring, the return type is only know after\u001b[0m\u001b[0;34m\u001b[0m\u001b[0;34m\u001b[0m\u001b[0m\n",
      "\u001b[0;32m/usr/local/lib/python3.10/dist-packages/sklearn/model_selection/_validation.py\u001b[0m in \u001b[0;36m_warn_or_raise_about_fit_failures\u001b[0;34m(results, error_score)\u001b[0m\n\u001b[1;32m    365\u001b[0m                 \u001b[0;34mf\"Below are more details about the failures:\\n{fit_errors_summary}\"\u001b[0m\u001b[0;34m\u001b[0m\u001b[0;34m\u001b[0m\u001b[0m\n\u001b[1;32m    366\u001b[0m             )\n\u001b[0;32m--> 367\u001b[0;31m             \u001b[0;32mraise\u001b[0m \u001b[0mValueError\u001b[0m\u001b[0;34m(\u001b[0m\u001b[0mall_fits_failed_message\u001b[0m\u001b[0;34m)\u001b[0m\u001b[0;34m\u001b[0m\u001b[0;34m\u001b[0m\u001b[0m\n\u001b[0m\u001b[1;32m    368\u001b[0m \u001b[0;34m\u001b[0m\u001b[0m\n\u001b[1;32m    369\u001b[0m         \u001b[0;32melse\u001b[0m\u001b[0;34m:\u001b[0m\u001b[0;34m\u001b[0m\u001b[0;34m\u001b[0m\u001b[0m\n",
      "\u001b[0;31mValueError\u001b[0m: \nAll the 360 fits failed.\nIt is very likely that your model is misconfigured.\nYou can try to debug the error by setting error_score='raise'.\n\nBelow are more details about the failures:\n--------------------------------------------------------------------------------\n288 fits failed with the following error:\nTraceback (most recent call last):\n  File \"/usr/local/lib/python3.10/dist-packages/sklearn/model_selection/_validation.py\", line 686, in _fit_and_score\n    estimator.fit(X_train, y_train, **fit_params)\n  File \"/usr/local/lib/python3.10/dist-packages/sklearn/linear_model/_stochastic_gradient.py\", line 894, in fit\n    return self._fit(\n  File \"/usr/local/lib/python3.10/dist-packages/sklearn/linear_model/_stochastic_gradient.py\", line 662, in _fit\n    y = self._validate_data(y=y)\n  File \"/usr/local/lib/python3.10/dist-packages/sklearn/base.py\", line 568, in _validate_data\n    y = _check_y(y, **check_params)\n  File \"/usr/local/lib/python3.10/dist-packages/sklearn/utils/validation.py\", line 1143, in _check_y\n    y = column_or_1d(y, warn=True)\n  File \"/usr/local/lib/python3.10/dist-packages/sklearn/utils/validation.py\", line 1202, in column_or_1d\n    raise ValueError(\nValueError: y should be a 1d array, got an array of shape (4231, 24) instead.\n\n--------------------------------------------------------------------------------\n72 fits failed with the following error:\nTraceback (most recent call last):\n  File \"/usr/local/lib/python3.10/dist-packages/sklearn/model_selection/_validation.py\", line 686, in _fit_and_score\n    estimator.fit(X_train, y_train, **fit_params)\n  File \"/usr/local/lib/python3.10/dist-packages/sklearn/linear_model/_stochastic_gradient.py\", line 894, in fit\n    return self._fit(\n  File \"/usr/local/lib/python3.10/dist-packages/sklearn/linear_model/_stochastic_gradient.py\", line 662, in _fit\n    y = self._validate_data(y=y)\n  File \"/usr/local/lib/python3.10/dist-packages/sklearn/base.py\", line 568, in _validate_data\n    y = _check_y(y, **check_params)\n  File \"/usr/local/lib/python3.10/dist-packages/sklearn/utils/validation.py\", line 1143, in _check_y\n    y = column_or_1d(y, warn=True)\n  File \"/usr/local/lib/python3.10/dist-packages/sklearn/utils/validation.py\", line 1202, in column_or_1d\n    raise ValueError(\nValueError: y should be a 1d array, got an array of shape (4232, 24) instead.\n"
     ]
    }
   ],
   "source": [
    "grid = {\n",
    "    'loss' : ['hinge', 'log'],\n",
    "    'penalty' : ['l2', 'l1'],\n",
    "    'alpha' : [1e-3, 1e-4, 1e-5],\n",
    "    'max_iter' : [20, 25, 30],\n",
    "    'class_weight' : ['balanced', None]\n",
    "}\n",
    "sgd = SGDClassifier(random_state=42)\n",
    "sgd_tfidf_gs = GridSearchCV(sgd, param_grid = grid, cv=5)\n",
    "sgd_tfidf_gs.fit(tfidf_Xtr, y_train_genres)\n",
    "\n",
    "print(sgd_tfidf_gs.best_score_)\n",
    "model_resultstfidf['SGD'] = sgd_tfidf_gs.best_score_"
   ]
  },
  {
   "cell_type": "code",
   "execution_count": null,
   "metadata": {
    "id": "S-9BZ89qkTIa"
   },
   "outputs": [],
   "source": []
  },
  {
   "cell_type": "code",
   "execution_count": null,
   "metadata": {
    "id": "W7RJMYrCkTIb"
   },
   "outputs": [],
   "source": []
  },
  {
   "cell_type": "code",
   "execution_count": null,
   "metadata": {
    "id": "qQDigM8dkTIb"
   },
   "outputs": [],
   "source": []
  },
  {
   "cell_type": "markdown",
   "metadata": {
    "id": "AzMmlg2WkTIc",
    "tags": []
   },
   "source": [
    "## Red neuronal"
   ]
  },
  {
   "cell_type": "code",
   "execution_count": null,
   "metadata": {
    "colab": {
     "base_uri": "https://localhost:8080/"
    },
    "executionInfo": {
     "elapsed": 4940,
     "status": "ok",
     "timestamp": 1684732410669,
     "user": {
      "displayName": "Oscar Andres Patino Patarroyo",
      "userId": "14256463387961091998"
     },
     "user_tz": 300
    },
    "id": "rKn5qFa-lZ2P",
    "outputId": "6bfab402-786e-4245-cccc-6515cc32c3ae"
   },
   "outputs": [
    {
     "name": "stdout",
     "output_type": "stream",
     "text": [
      "Looking in indexes: https://pypi.org/simple, https://us-python.pkg.dev/colab-wheels/public/simple/\n",
      "Collecting livelossplot\n",
      "  Downloading livelossplot-0.5.5-py3-none-any.whl (22 kB)\n",
      "Requirement already satisfied: matplotlib in /usr/local/lib/python3.10/dist-packages (from livelossplot) (3.7.1)\n",
      "Requirement already satisfied: bokeh in /usr/local/lib/python3.10/dist-packages (from livelossplot) (2.4.3)\n",
      "Requirement already satisfied: Jinja2>=2.9 in /usr/local/lib/python3.10/dist-packages (from bokeh->livelossplot) (3.1.2)\n",
      "Requirement already satisfied: numpy>=1.11.3 in /usr/local/lib/python3.10/dist-packages (from bokeh->livelossplot) (1.22.4)\n",
      "Requirement already satisfied: packaging>=16.8 in /usr/local/lib/python3.10/dist-packages (from bokeh->livelossplot) (23.1)\n",
      "Requirement already satisfied: pillow>=7.1.0 in /usr/local/lib/python3.10/dist-packages (from bokeh->livelossplot) (8.4.0)\n",
      "Requirement already satisfied: PyYAML>=3.10 in /usr/local/lib/python3.10/dist-packages (from bokeh->livelossplot) (6.0)\n",
      "Requirement already satisfied: tornado>=5.1 in /usr/local/lib/python3.10/dist-packages (from bokeh->livelossplot) (6.3.1)\n",
      "Requirement already satisfied: typing-extensions>=3.10.0 in /usr/local/lib/python3.10/dist-packages (from bokeh->livelossplot) (4.5.0)\n",
      "Requirement already satisfied: contourpy>=1.0.1 in /usr/local/lib/python3.10/dist-packages (from matplotlib->livelossplot) (1.0.7)\n",
      "Requirement already satisfied: cycler>=0.10 in /usr/local/lib/python3.10/dist-packages (from matplotlib->livelossplot) (0.11.0)\n",
      "Requirement already satisfied: fonttools>=4.22.0 in /usr/local/lib/python3.10/dist-packages (from matplotlib->livelossplot) (4.39.3)\n",
      "Requirement already satisfied: kiwisolver>=1.0.1 in /usr/local/lib/python3.10/dist-packages (from matplotlib->livelossplot) (1.4.4)\n",
      "Requirement already satisfied: pyparsing>=2.3.1 in /usr/local/lib/python3.10/dist-packages (from matplotlib->livelossplot) (3.0.9)\n",
      "Requirement already satisfied: python-dateutil>=2.7 in /usr/local/lib/python3.10/dist-packages (from matplotlib->livelossplot) (2.8.2)\n",
      "Requirement already satisfied: MarkupSafe>=2.0 in /usr/local/lib/python3.10/dist-packages (from Jinja2>=2.9->bokeh->livelossplot) (2.1.2)\n",
      "Requirement already satisfied: six>=1.5 in /usr/local/lib/python3.10/dist-packages (from python-dateutil>=2.7->matplotlib->livelossplot) (1.16.0)\n",
      "Installing collected packages: livelossplot\n",
      "Successfully installed livelossplot-0.5.5\n"
     ]
    }
   ],
   "source": [
    "pip install livelossplot"
   ]
  },
  {
   "cell_type": "code",
   "execution_count": null,
   "metadata": {
    "id": "m8WMZv5rkTIe",
    "scrolled": true
   },
   "outputs": [],
   "source": [
    "import keras\n",
    "from keras import backend as K\n",
    "from keras import initializers\n",
    "from keras import optimizers\n",
    "from keras.optimizers import SGD\n",
    "from keras import metrics\n",
    "from keras.models import Sequential, Model\n",
    "from keras.layers import LSTM, GRU\n",
    "from keras.layers.core import Dense, Dropout\n",
    "from keras.layers import Input\n",
    "from keras.layers import Embedding\n",
    "#from keras.layers.recurrent import LSTM\n",
    "#from keras.layers.core import Dense, Dropout\n",
    "#from keras.layers import Input\n",
    "#from keras.layers.embeddings import Embedding\n",
    "from keras.preprocessing import sequence\n",
    "from keras.utils import pad_sequences\n",
    "from keras.callbacks import EarlyStopping, ModelCheckpoint\n",
    "from keras.wrappers.scikit_learn import KerasClassifier\n",
    "from livelossplot import PlotLossesKeras"
   ]
  },
  {
   "cell_type": "code",
   "execution_count": null,
   "metadata": {
    "id": "veSID2ZFkTIg"
   },
   "outputs": [],
   "source": [
    "output_var = yTrain4.shape[1]\n",
    "dims = XTrain4.shape[1]"
   ]
  },
  {
   "cell_type": "code",
   "execution_count": null,
   "metadata": {
    "colab": {
     "base_uri": "https://localhost:8080/"
    },
    "executionInfo": {
     "elapsed": 194,
     "status": "ok",
     "timestamp": 1684726276198,
     "user": {
      "displayName": "Oscar Andres Patino Patarroyo",
      "userId": "14256463387961091998"
     },
     "user_tz": 300
    },
    "id": "_XRPqLcokTIh",
    "outputId": "5926fca9-0aff-4eac-b760-fe9a1bcc8ff9"
   },
   "outputs": [
    {
     "data": {
      "text/plain": [
       "(1000, 24)"
      ]
     },
     "execution_count": 37,
     "metadata": {},
     "output_type": "execute_result"
    }
   ],
   "source": [
    "dims, output_var"
   ]
  },
  {
   "cell_type": "code",
   "execution_count": null,
   "metadata": {
    "id": "RozWLEpVkTIj"
   },
   "outputs": [],
   "source": []
  },
  {
   "cell_type": "code",
   "execution_count": null,
   "metadata": {
    "colab": {
     "base_uri": "https://localhost:8080/"
    },
    "executionInfo": {
     "elapsed": 219,
     "status": "ok",
     "timestamp": 1684714732398,
     "user": {
      "displayName": "Oscar Andres Patino Patarroyo",
      "userId": "14256463387961091998"
     },
     "user_tz": 300
    },
    "id": "rNrKeytckTIk",
    "outputId": "cc5907d1-30c6-4e45-d4fe-16b28b317eb6"
   },
   "outputs": [
    {
     "name": "stdout",
     "output_type": "stream",
     "text": [
      "Model: \"sequential_3\"\n",
      "_________________________________________________________________\n",
      " Layer (type)                Output Shape              Param #   \n",
      "=================================================================\n",
      " dense_5 (Dense)             (None, 64)                2216320   \n",
      "                                                                 \n",
      " dense_6 (Dense)             (None, 64)                4160      \n",
      "                                                                 \n",
      " dropout_3 (Dropout)         (None, 64)                0         \n",
      "                                                                 \n",
      " dense_7 (Dense)             (None, 24)                1560      \n",
      "                                                                 \n",
      "=================================================================\n",
      "Total params: 2,222,040\n",
      "Trainable params: 2,222,040\n",
      "Non-trainable params: 0\n",
      "_________________________________________________________________\n",
      "None\n"
     ]
    }
   ],
   "source": [
    "opt = SGD(lr=0.01, momentum=0.9)\n",
    "NN3 = Sequential()\n",
    "NN3.add(Dense(64, input_shape=(dims,),activation='relu'))\n",
    "NN3.add(Dense(64, input_shape=(dims,),activation='relu'))\n",
    "NN3.add(Dropout(0.5))\n",
    "NN3.add(Dense(output_var, activation='softmax'))\n",
    "NN3.compile(optimizer=opt, loss='categorical_crossentropy',metrics=['AUC'])\n",
    "print(NN3.summary())"
   ]
  },
  {
   "cell_type": "code",
   "execution_count": null,
   "metadata": {
    "id": "6_DJpbflkTIs"
   },
   "outputs": [],
   "source": []
  },
  {
   "cell_type": "code",
   "execution_count": null,
   "metadata": {
    "id": "JWj5OdTKkTIt"
   },
   "outputs": [],
   "source": [
    "early_stop = EarlyStopping(monitor='val_loss', patience=2, verbose=1)\n",
    "fBestModel = 'best_model.h5'\n",
    "best_model = ModelCheckpoint(fBestModel, verbose=0, save_best_only=True)"
   ]
  },
  {
   "cell_type": "code",
   "execution_count": null,
   "metadata": {
    "colab": {
     "base_uri": "https://localhost:8080/",
     "height": 432
    },
    "executionInfo": {
     "elapsed": 230,
     "status": "error",
     "timestamp": 1684714875128,
     "user": {
      "displayName": "Oscar Andres Patino Patarroyo",
      "userId": "14256463387961091998"
     },
     "user_tz": 300
    },
    "id": "n6xwijLqkTIu",
    "outputId": "711ea885-f006-43b0-ffaa-a53be4d6d5c4"
   },
   "outputs": [
    {
     "ename": "InvalidArgumentError",
     "evalue": "ignored",
     "output_type": "error",
     "traceback": [
      "\u001b[0;31m---------------------------------------------------------------------------\u001b[0m",
      "\u001b[0;31mInvalidArgumentError\u001b[0m                      Traceback (most recent call last)",
      "\u001b[0;32m<ipython-input-44-0fd00d04fcd5>\u001b[0m in \u001b[0;36m<cell line: 1>\u001b[0;34m()\u001b[0m\n\u001b[0;32m----> 1\u001b[0;31m NN3.fit(XTrain2, yTrain2, \n\u001b[0m\u001b[1;32m      2\u001b[0m           \u001b[0mverbose\u001b[0m\u001b[0;34m=\u001b[0m\u001b[0;36m1\u001b[0m\u001b[0;34m,\u001b[0m\u001b[0;34m\u001b[0m\u001b[0;34m\u001b[0m\u001b[0m\n\u001b[1;32m      3\u001b[0m           \u001b[0mepochs\u001b[0m\u001b[0;34m=\u001b[0m\u001b[0;36m10\u001b[0m\u001b[0;34m,\u001b[0m\u001b[0;34m\u001b[0m\u001b[0;34m\u001b[0m\u001b[0m\n\u001b[1;32m      4\u001b[0m           \u001b[0mvalidation_data\u001b[0m\u001b[0;34m=\u001b[0m\u001b[0;34m(\u001b[0m\u001b[0mXTest2\u001b[0m\u001b[0;34m,\u001b[0m \u001b[0myTest2\u001b[0m\u001b[0;34m)\u001b[0m\u001b[0;34m,\u001b[0m\u001b[0;34m\u001b[0m\u001b[0;34m\u001b[0m\u001b[0m\n\u001b[1;32m      5\u001b[0m           callbacks=[PlotLossesKeras(),best_model, early_stop])\n",
      "\u001b[0;32m/usr/local/lib/python3.10/dist-packages/keras/utils/traceback_utils.py\u001b[0m in \u001b[0;36merror_handler\u001b[0;34m(*args, **kwargs)\u001b[0m\n\u001b[1;32m     68\u001b[0m             \u001b[0;31m# To get the full stack trace, call:\u001b[0m\u001b[0;34m\u001b[0m\u001b[0;34m\u001b[0m\u001b[0m\n\u001b[1;32m     69\u001b[0m             \u001b[0;31m# `tf.debugging.disable_traceback_filtering()`\u001b[0m\u001b[0;34m\u001b[0m\u001b[0;34m\u001b[0m\u001b[0m\n\u001b[0;32m---> 70\u001b[0;31m             \u001b[0;32mraise\u001b[0m \u001b[0me\u001b[0m\u001b[0;34m.\u001b[0m\u001b[0mwith_traceback\u001b[0m\u001b[0;34m(\u001b[0m\u001b[0mfiltered_tb\u001b[0m\u001b[0;34m)\u001b[0m \u001b[0;32mfrom\u001b[0m \u001b[0;32mNone\u001b[0m\u001b[0;34m\u001b[0m\u001b[0;34m\u001b[0m\u001b[0m\n\u001b[0m\u001b[1;32m     71\u001b[0m         \u001b[0;32mfinally\u001b[0m\u001b[0;34m:\u001b[0m\u001b[0;34m\u001b[0m\u001b[0;34m\u001b[0m\u001b[0m\n\u001b[1;32m     72\u001b[0m             \u001b[0;32mdel\u001b[0m \u001b[0mfiltered_tb\u001b[0m\u001b[0;34m\u001b[0m\u001b[0;34m\u001b[0m\u001b[0m\n",
      "\u001b[0;32m/usr/local/lib/python3.10/dist-packages/tensorflow/python/framework/ops.py\u001b[0m in \u001b[0;36mraise_from_not_ok_status\u001b[0;34m(e, name)\u001b[0m\n\u001b[1;32m   7260\u001b[0m \u001b[0;32mdef\u001b[0m \u001b[0mraise_from_not_ok_status\u001b[0m\u001b[0;34m(\u001b[0m\u001b[0me\u001b[0m\u001b[0;34m,\u001b[0m \u001b[0mname\u001b[0m\u001b[0;34m)\u001b[0m\u001b[0;34m:\u001b[0m\u001b[0;34m\u001b[0m\u001b[0;34m\u001b[0m\u001b[0m\n\u001b[1;32m   7261\u001b[0m   \u001b[0me\u001b[0m\u001b[0;34m.\u001b[0m\u001b[0mmessage\u001b[0m \u001b[0;34m+=\u001b[0m \u001b[0;34m(\u001b[0m\u001b[0;34m\" name: \"\u001b[0m \u001b[0;34m+\u001b[0m \u001b[0mname\u001b[0m \u001b[0;32mif\u001b[0m \u001b[0mname\u001b[0m \u001b[0;32mis\u001b[0m \u001b[0;32mnot\u001b[0m \u001b[0;32mNone\u001b[0m \u001b[0;32melse\u001b[0m \u001b[0;34m\"\"\u001b[0m\u001b[0;34m)\u001b[0m\u001b[0;34m\u001b[0m\u001b[0;34m\u001b[0m\u001b[0m\n\u001b[0;32m-> 7262\u001b[0;31m   \u001b[0;32mraise\u001b[0m \u001b[0mcore\u001b[0m\u001b[0;34m.\u001b[0m\u001b[0m_status_to_exception\u001b[0m\u001b[0;34m(\u001b[0m\u001b[0me\u001b[0m\u001b[0;34m)\u001b[0m \u001b[0;32mfrom\u001b[0m \u001b[0;32mNone\u001b[0m  \u001b[0;31m# pylint: disable=protected-access\u001b[0m\u001b[0;34m\u001b[0m\u001b[0;34m\u001b[0m\u001b[0m\n\u001b[0m\u001b[1;32m   7263\u001b[0m \u001b[0;34m\u001b[0m\u001b[0m\n\u001b[1;32m   7264\u001b[0m \u001b[0;34m\u001b[0m\u001b[0m\n",
      "\u001b[0;31mInvalidArgumentError\u001b[0m: {{function_node __wrapped__SerializeManySparse_device_/job:localhost/replica:0/task:0/device:CPU:0}} indices[1] = [0,918] is out of order. Many sparse ops require sorted indices.\n    Use `tf.sparse.reorder` to create a correctly ordered copy.\n\n [Op:SerializeManySparse]"
     ]
    }
   ],
   "source": [
    "NN3.fit(XTrain2, yTrain2, \n",
    "          verbose=1, \n",
    "          epochs=10, \n",
    "          validation_data=(XTest2, yTest2),\n",
    "          callbacks=[PlotLossesKeras(),best_model, early_stop])"
   ]
  },
  {
   "cell_type": "code",
   "execution_count": null,
   "metadata": {
    "id": "yGlGwpoikTIv",
    "outputId": "0ab4180a-92c5-4954-93d7-db2a4cc74dc3"
   },
   "outputs": [
    {
     "name": "stdout",
     "output_type": "stream",
     "text": [
      "166/166 [==============================] - 4s 18ms/step\n",
      "82/82 [==============================] - 2s 19ms/step\n",
      "El AUC del modelo es de 0.49961303539650775\n",
      "El R2 del modelo es de -0.16101252431972166\n",
      "\n",
      "El AUC del modelo en Train es de 0.49978684880944124\n",
      "El R2 del modelo en Train es de -0.15642441986475417\n"
     ]
    }
   ],
   "source": [
    "ypredTrNN3 = NN3.predict(XTrain2)\n",
    "ypredNN3 = NN3.predict(XTest2)\n",
    "calculo_metrica(ypredNN3,yTest2,ypredTrNN3,yTrain2)"
   ]
  },
  {
   "cell_type": "code",
   "execution_count": null,
   "metadata": {
    "id": "ZBCvoOMDkTIx"
   },
   "outputs": [],
   "source": []
  },
  {
   "cell_type": "code",
   "execution_count": null,
   "metadata": {
    "id": "jv3gzcl7kTIy"
   },
   "outputs": [],
   "source": []
  },
  {
   "cell_type": "code",
   "execution_count": null,
   "metadata": {
    "id": "u3pV_3hgkTIz"
   },
   "outputs": [],
   "source": []
  },
  {
   "cell_type": "markdown",
   "metadata": {
    "id": "1rpsNnY2kTIz"
   },
   "source": [
    "## Keras classifier"
   ]
  },
  {
   "cell_type": "code",
   "execution_count": null,
   "metadata": {
    "id": "wYj_lqkXkTI0"
   },
   "outputs": [],
   "source": [
    "# Definición de función que crea una red neuronal a partir de diferentes parámetros (nn_model_params)\n",
    "# En esta función se consideran 7 parámetos a calibrar, sin embargo se pueden agregar o quitar tantos como lo consideren pertinente\n",
    "def nn_model_params(optimizer ,\n",
    "                    neurons,\n",
    "                    batch_size,\n",
    "                    epochs,\n",
    "                    activation,\n",
    "                    patience,\n",
    "                    loss):\n",
    "    \n",
    "    K.clear_session()\n",
    "\n",
    "    # Definición red neuronal con la función Sequential()\n",
    "    model = Sequential()\n",
    "    \n",
    "    # Definición de las capas de la red con el número de neuronas y la función de activación definidos en la función nn_model_params\n",
    "    model.add(Dense(neurons, input_shape=(dims,), activation=activation))\n",
    "    model.add(Dense(neurons, activation=activation))\n",
    "    model.add(Dense(output_var, activation=activation))\n",
    "\n",
    "    # Definición de función de perdida con parámetros definidos en la función nn_model_params\n",
    "    model.compile(optimizer = optimizer, loss=loss)\n",
    "    \n",
    "    # Definición de la función EarlyStopping con parámetro definido en la función nn_model_params\n",
    "    early_stopping = EarlyStopping(monitor=\"val_loss\", patience = patience)\n",
    "\n",
    "    # Entrenamiento de la red neuronal con parámetros definidos en la función nn_model_params\n",
    "    model.fit(X_train, Y_train,\n",
    "              validation_data = (X_val, Y_val),\n",
    "              epochs=epochs,\n",
    "              batch_size=batch_size,\n",
    "              callbacks=[early_stopping, PlotLossesKeras()],\n",
    "              verbose=True\n",
    "              )\n",
    "     \n",
    "    return model"
   ]
  },
  {
   "cell_type": "code",
   "execution_count": null,
   "metadata": {
    "id": "jdRd_n_DkTJD"
   },
   "outputs": [],
   "source": [
    "# Definición de parámetros y sus valores sobre los que se va a calibrar\n",
    "nn_params = {\n",
    "    'optimizer': ['adam','sgd'],\n",
    "    'activation': ['relu'],\n",
    "    'batch_size': [64,128],\n",
    "    'neurons':[64,256],\n",
    "    'epochs':[20,50],\n",
    "    'patience':[2,5],\n",
    "    'loss':['mean_squared_error']\n",
    "}"
   ]
  },
  {
   "cell_type": "code",
   "execution_count": null,
   "metadata": {
    "id": "tg7mL1x7kTJQ"
   },
   "outputs": [],
   "source": [
    "# Definición de red neuronal usando el wrapper KerasRegressor y usando como argumento build_fn en la función nn_model_params\n",
    "nn_model = KerasClassifier(build_fn=nn_model_params, verbose=0)\n",
    "\n",
    "# Definición método GridSearch para la calibración de parámetros definidos en nn_params\n",
    "rs = RandomizedSearchCV(nn_model, param_distributions=nn_params, n_iter=5, cv=3)\n",
    "rs.fit(X_train, Y_train)\n",
    "\n",
    "print('Los mejores parametros segun Randomnized Search:', rs.best_params_)"
   ]
  },
  {
   "cell_type": "code",
   "execution_count": null,
   "metadata": {
    "id": "brGysDTKkTJR"
   },
   "outputs": [],
   "source": [
    "nn_model = KerasRegressor(build_fn=nn_model_params, verbose=0)\n",
    "\n",
    "# Definición método GridSearch para la calibración de parámetros definidos en nn_params\n",
    "gs = GridSearchCV(nn_model, nn_params, cv=3)\n",
    "gs.fit(X_train, Y_train)\n",
    "\n",
    "print('Los mejores parametros segun Grid Search:', gs.best_params_)"
   ]
  },
  {
   "cell_type": "markdown",
   "metadata": {
    "id": "hdKjiwoukTJS"
   },
   "source": [
    "## LSTM"
   ]
  },
  {
   "cell_type": "code",
   "execution_count": null,
   "metadata": {
    "id": "TdUCAuOBkTJT"
   },
   "outputs": [],
   "source": []
  },
  {
   "cell_type": "code",
   "execution_count": null,
   "metadata": {
    "id": "-9TNhx3dkTJU"
   },
   "outputs": [],
   "source": [
    "# Definición máximo largo de embedding\n",
    "max_url_len = 150\n",
    "\n",
    "# Codificación (embedding) de la URL con el vocabulario definido anteriormente\n",
    "X = [x[:max_url_len] for x in X]\n",
    "X = [[vocabulary[x1] for x1 in x if x1 in vocabulary.keys()] for x in X]"
   ]
  },
  {
   "cell_type": "code",
   "execution_count": null,
   "metadata": {
    "colab": {
     "base_uri": "https://localhost:8080/",
     "height": 339
    },
    "executionInfo": {
     "elapsed": 222,
     "status": "error",
     "timestamp": 1684714250256,
     "user": {
      "displayName": "Oscar Andres Patino Patarroyo",
      "userId": "14256463387961091998"
     },
     "user_tz": 300
    },
    "id": "bcFVa2M_kTJV",
    "outputId": "cec76ad9-a650-4196-a9a1-2edac57a4c81"
   },
   "outputs": [
    {
     "ename": "ValueError",
     "evalue": "ignored",
     "output_type": "error",
     "traceback": [
      "\u001b[0;31m---------------------------------------------------------------------------\u001b[0m",
      "\u001b[0;31mValueError\u001b[0m                                Traceback (most recent call last)",
      "\u001b[0;32m<ipython-input-34-e6c1e91f07da>\u001b[0m in \u001b[0;36m<cell line: 3>\u001b[0;34m()\u001b[0m\n\u001b[1;32m      1\u001b[0m \u001b[0;31m# Definición de embedding con el largo máximo definido anteriormente\u001b[0m\u001b[0;34m\u001b[0m\u001b[0;34m\u001b[0m\u001b[0m\n\u001b[1;32m      2\u001b[0m \u001b[0mmax_url_len\u001b[0m \u001b[0;34m=\u001b[0m \u001b[0;36m1500\u001b[0m\u001b[0;34m\u001b[0m\u001b[0;34m\u001b[0m\u001b[0m\n\u001b[0;32m----> 3\u001b[0;31m \u001b[0mX_pad\u001b[0m \u001b[0;34m=\u001b[0m \u001b[0mpad_sequences\u001b[0m\u001b[0;34m(\u001b[0m\u001b[0mXTrain4\u001b[0m\u001b[0;34m.\u001b[0m\u001b[0mshape\u001b[0m\u001b[0;34m[\u001b[0m\u001b[0;36m0\u001b[0m\u001b[0;34m]\u001b[0m\u001b[0;34m,\u001b[0m \u001b[0mmaxlen\u001b[0m\u001b[0;34m=\u001b[0m\u001b[0mmax_url_len\u001b[0m\u001b[0;34m)\u001b[0m\u001b[0;34m\u001b[0m\u001b[0;34m\u001b[0m\u001b[0m\n\u001b[0m\u001b[1;32m      4\u001b[0m \u001b[0mX_pad\u001b[0m\u001b[0;34m\u001b[0m\u001b[0;34m\u001b[0m\u001b[0m\n",
      "\u001b[0;32m/usr/local/lib/python3.10/dist-packages/keras_preprocessing/sequence.py\u001b[0m in \u001b[0;36mpad_sequences\u001b[0;34m(sequences, maxlen, dtype, padding, truncating, value)\u001b[0m\n\u001b[1;32m     54\u001b[0m     \"\"\"\n\u001b[1;32m     55\u001b[0m     \u001b[0;32mif\u001b[0m \u001b[0;32mnot\u001b[0m \u001b[0mhasattr\u001b[0m\u001b[0;34m(\u001b[0m\u001b[0msequences\u001b[0m\u001b[0;34m,\u001b[0m \u001b[0;34m'__len__'\u001b[0m\u001b[0;34m)\u001b[0m\u001b[0;34m:\u001b[0m\u001b[0;34m\u001b[0m\u001b[0;34m\u001b[0m\u001b[0m\n\u001b[0;32m---> 56\u001b[0;31m         \u001b[0;32mraise\u001b[0m \u001b[0mValueError\u001b[0m\u001b[0;34m(\u001b[0m\u001b[0;34m'`sequences` must be iterable.'\u001b[0m\u001b[0;34m)\u001b[0m\u001b[0;34m\u001b[0m\u001b[0;34m\u001b[0m\u001b[0m\n\u001b[0m\u001b[1;32m     57\u001b[0m     \u001b[0mnum_samples\u001b[0m \u001b[0;34m=\u001b[0m \u001b[0mlen\u001b[0m\u001b[0;34m(\u001b[0m\u001b[0msequences\u001b[0m\u001b[0;34m)\u001b[0m\u001b[0;34m\u001b[0m\u001b[0;34m\u001b[0m\u001b[0m\n\u001b[1;32m     58\u001b[0m \u001b[0;34m\u001b[0m\u001b[0m\n",
      "\u001b[0;31mValueError\u001b[0m: `sequences` must be iterable."
     ]
    }
   ],
   "source": [
    "# Definición de embedding con el largo máximo definido anteriormente\n",
    "max_url_len = 1500\n",
    "X_pad = pad_sequences(XTrain4.shape[0], maxlen=max_url_len)\n",
    "X_pad"
   ]
  },
  {
   "cell_type": "code",
   "execution_count": null,
   "metadata": {
    "colab": {
     "base_uri": "https://localhost:8080/"
    },
    "executionInfo": {
     "elapsed": 427,
     "status": "ok",
     "timestamp": 1684714457929,
     "user": {
      "displayName": "Oscar Andres Patino Patarroyo",
      "userId": "14256463387961091998"
     },
     "user_tz": 300
    },
    "id": "yNzhN5uCkTJa",
    "outputId": "14d997bf-d9a1-469f-d271-3231a9254100"
   },
   "outputs": [
    {
     "name": "stdout",
     "output_type": "stream",
     "text": [
      "Model: \"sequential_1\"\n",
      "_________________________________________________________________\n",
      " Layer (type)                Output Shape              Param #   \n",
      "=================================================================\n",
      " embedding_1 (Embedding)     (None, 34629, 128)        707328    \n",
      "                                                                 \n",
      " lstm_1 (LSTM)               (None, 24)                14688     \n",
      "                                                                 \n",
      " dropout_1 (Dropout)         (None, 24)                0         \n",
      "                                                                 \n",
      " dense_1 (Dense)             (None, 24)                600       \n",
      "                                                                 \n",
      "=================================================================\n",
      "Total params: 722,616\n",
      "Trainable params: 722,616\n",
      "Non-trainable params: 0\n",
      "_________________________________________________________________\n"
     ]
    }
   ],
   "source": [
    "# Definición red neuronal con la función Sequential()\n",
    "lstm = Sequential()\n",
    "\n",
    "# Definición de la capa embedding\n",
    "lstm.add(Embedding(XTrain4.shape[0], 128, input_length=dims))\n",
    "# Definición de la capa recurrente LSTM\n",
    "lstm.add(LSTM(24))\n",
    "# Definición de dropout para evitar overfitting\n",
    "lstm.add(Dropout(0.5))\n",
    "# Definición capa densa con función sigmoide para predicción binaria final\n",
    "lstm.add(Dense(yTrain4.shape[1], activation='softmax'))\n",
    "\n",
    "# Definición de función de perdida.\n",
    "lstm.compile(loss='categorical_crossentropy', optimizer='adam', metrics=['AUC'])\n",
    "\n",
    "# Impresión de la arquitectura de la red neuronal\n",
    "lstm.summary()"
   ]
  },
  {
   "cell_type": "code",
   "execution_count": null,
   "metadata": {
    "colab": {
     "base_uri": "https://localhost:8080/",
     "height": 432
    },
    "executionInfo": {
     "elapsed": 39,
     "status": "error",
     "timestamp": 1684716968123,
     "user": {
      "displayName": "Oscar Andres Patino Patarroyo",
      "userId": "14256463387961091998"
     },
     "user_tz": 300
    },
    "id": "UJt7ie5YkTJc",
    "outputId": "4e0458b1-ba87-4855-d8be-b880de0c9c6f"
   },
   "outputs": [
    {
     "ename": "InvalidArgumentError",
     "evalue": "ignored",
     "output_type": "error",
     "traceback": [
      "\u001b[0;31m---------------------------------------------------------------------------\u001b[0m",
      "\u001b[0;31mInvalidArgumentError\u001b[0m                      Traceback (most recent call last)",
      "\u001b[0;32m<ipython-input-55-36c2945bb6a0>\u001b[0m in \u001b[0;36m<cell line: 2>\u001b[0;34m()\u001b[0m\n\u001b[1;32m      1\u001b[0m \u001b[0;31m# Entrenamiento de la red neuronal usando el set de entrenamiento\u001b[0m\u001b[0;34m\u001b[0m\u001b[0;34m\u001b[0m\u001b[0m\n\u001b[0;32m----> 2\u001b[0;31m lstm.fit(XTrain2, yTrain2, validation_data=(XTest2, yTest2), \n\u001b[0m\u001b[1;32m      3\u001b[0m          \u001b[0mbatch_size\u001b[0m\u001b[0;34m=\u001b[0m\u001b[0;36m128\u001b[0m\u001b[0;34m,\u001b[0m \u001b[0mepochs\u001b[0m\u001b[0;34m=\u001b[0m\u001b[0;36m10\u001b[0m\u001b[0;34m,\u001b[0m \u001b[0mverbose\u001b[0m\u001b[0;34m=\u001b[0m\u001b[0;36m1\u001b[0m\u001b[0;34m,\u001b[0m\u001b[0;34m\u001b[0m\u001b[0;34m\u001b[0m\u001b[0m\n\u001b[1;32m      4\u001b[0m          callbacks=[PlotLossesKeras()])\n\u001b[1;32m      5\u001b[0m \u001b[0mypredLSTM\u001b[0m \u001b[0;34m=\u001b[0m \u001b[0mlstm\u001b[0m\u001b[0;34m.\u001b[0m\u001b[0mpredict_proba\u001b[0m\u001b[0;34m(\u001b[0m\u001b[0mXTest2\u001b[0m\u001b[0;34m)\u001b[0m\u001b[0;34m\u001b[0m\u001b[0;34m\u001b[0m\u001b[0m\n",
      "\u001b[0;32m/usr/local/lib/python3.10/dist-packages/keras/utils/traceback_utils.py\u001b[0m in \u001b[0;36merror_handler\u001b[0;34m(*args, **kwargs)\u001b[0m\n\u001b[1;32m     68\u001b[0m             \u001b[0;31m# To get the full stack trace, call:\u001b[0m\u001b[0;34m\u001b[0m\u001b[0;34m\u001b[0m\u001b[0m\n\u001b[1;32m     69\u001b[0m             \u001b[0;31m# `tf.debugging.disable_traceback_filtering()`\u001b[0m\u001b[0;34m\u001b[0m\u001b[0;34m\u001b[0m\u001b[0m\n\u001b[0;32m---> 70\u001b[0;31m             \u001b[0;32mraise\u001b[0m \u001b[0me\u001b[0m\u001b[0;34m.\u001b[0m\u001b[0mwith_traceback\u001b[0m\u001b[0;34m(\u001b[0m\u001b[0mfiltered_tb\u001b[0m\u001b[0;34m)\u001b[0m \u001b[0;32mfrom\u001b[0m \u001b[0;32mNone\u001b[0m\u001b[0;34m\u001b[0m\u001b[0;34m\u001b[0m\u001b[0m\n\u001b[0m\u001b[1;32m     71\u001b[0m         \u001b[0;32mfinally\u001b[0m\u001b[0;34m:\u001b[0m\u001b[0;34m\u001b[0m\u001b[0;34m\u001b[0m\u001b[0m\n\u001b[1;32m     72\u001b[0m             \u001b[0;32mdel\u001b[0m \u001b[0mfiltered_tb\u001b[0m\u001b[0;34m\u001b[0m\u001b[0;34m\u001b[0m\u001b[0m\n",
      "\u001b[0;32m/usr/local/lib/python3.10/dist-packages/tensorflow/python/framework/ops.py\u001b[0m in \u001b[0;36mraise_from_not_ok_status\u001b[0;34m(e, name)\u001b[0m\n\u001b[1;32m   7260\u001b[0m \u001b[0;32mdef\u001b[0m \u001b[0mraise_from_not_ok_status\u001b[0m\u001b[0;34m(\u001b[0m\u001b[0me\u001b[0m\u001b[0;34m,\u001b[0m \u001b[0mname\u001b[0m\u001b[0;34m)\u001b[0m\u001b[0;34m:\u001b[0m\u001b[0;34m\u001b[0m\u001b[0;34m\u001b[0m\u001b[0m\n\u001b[1;32m   7261\u001b[0m   \u001b[0me\u001b[0m\u001b[0;34m.\u001b[0m\u001b[0mmessage\u001b[0m \u001b[0;34m+=\u001b[0m \u001b[0;34m(\u001b[0m\u001b[0;34m\" name: \"\u001b[0m \u001b[0;34m+\u001b[0m \u001b[0mname\u001b[0m \u001b[0;32mif\u001b[0m \u001b[0mname\u001b[0m \u001b[0;32mis\u001b[0m \u001b[0;32mnot\u001b[0m \u001b[0;32mNone\u001b[0m \u001b[0;32melse\u001b[0m \u001b[0;34m\"\"\u001b[0m\u001b[0;34m)\u001b[0m\u001b[0;34m\u001b[0m\u001b[0;34m\u001b[0m\u001b[0m\n\u001b[0;32m-> 7262\u001b[0;31m   \u001b[0;32mraise\u001b[0m \u001b[0mcore\u001b[0m\u001b[0;34m.\u001b[0m\u001b[0m_status_to_exception\u001b[0m\u001b[0;34m(\u001b[0m\u001b[0me\u001b[0m\u001b[0;34m)\u001b[0m \u001b[0;32mfrom\u001b[0m \u001b[0;32mNone\u001b[0m  \u001b[0;31m# pylint: disable=protected-access\u001b[0m\u001b[0;34m\u001b[0m\u001b[0;34m\u001b[0m\u001b[0m\n\u001b[0m\u001b[1;32m   7263\u001b[0m \u001b[0;34m\u001b[0m\u001b[0m\n\u001b[1;32m   7264\u001b[0m \u001b[0;34m\u001b[0m\u001b[0m\n",
      "\u001b[0;31mInvalidArgumentError\u001b[0m: {{function_node __wrapped__SerializeManySparse_device_/job:localhost/replica:0/task:0/device:CPU:0}} indices[1] = [0,918] is out of order. Many sparse ops require sorted indices.\n    Use `tf.sparse.reorder` to create a correctly ordered copy.\n\n [Op:SerializeManySparse]"
     ]
    }
   ],
   "source": [
    "# Entrenamiento de la red neuronal usando el set de entrenamiento\n",
    "lstm.fit(XTrain2, yTrain2, validation_data=(XTest2, yTest2), \n",
    "         batch_size=128, epochs=10, verbose=1,\n",
    "         callbacks=[PlotLossesKeras()])\n",
    "ypredLSTM = lstm.predict_proba(XTest2)\n",
    "ypredTrLSTM = lstm.predict_proba(XTrain2)"
   ]
  },
  {
   "cell_type": "code",
   "execution_count": null,
   "metadata": {
    "id": "CP8J5bvgkTJd"
   },
   "outputs": [],
   "source": [
    "calculo_metrica(ypredLSTM, yTest4, ypredTrLSTM, yTrain4)"
   ]
  },
  {
   "cell_type": "code",
   "execution_count": null,
   "metadata": {
    "id": "8rFgEfMD51mQ"
   },
   "outputs": [],
   "source": [
    "# Predicción de la red neuronal usando el set de test\n",
    "y_pred = model.predict(X_test)\n",
    "y_pred = np.round(y_pred.flatten()).astype(int)\n",
    "\n",
    "# Impresión del desempeño de la red neuronal\n",
    "print((y_pred == y_test).mean())"
   ]
  },
  {
   "cell_type": "markdown",
   "metadata": {
    "id": "kHFTY3SB6-p7"
   },
   "source": [
    "## GRU"
   ]
  },
  {
   "cell_type": "code",
   "execution_count": null,
   "metadata": {
    "id": "N69Au6Xk7A92"
   },
   "outputs": [],
   "source": [
    "# Definición red neuronal con la función Sequential()\n",
    "gru = tf.keras.Sequential()\n",
    "\n",
    "# Definición de la capa embedding\n",
    "gru.add(Embedding(XTrain2.shape[0], 128, input_length=XTrain2.shape[1]))\n",
    "# Definición de la capa recurrente LSTM\n",
    "gru.add(GRU(64))\n",
    "# Definición de dropout para evitar overfitting\n",
    "gru.add(Dropout(0.2))\n",
    "# Definición capa densa con función sigmoide para predicción binaria final\n",
    "gru.add(Dense(yTrain2.shape[1], activation='softmax'))\n",
    "\n",
    "# Definición de función de perdida.\n",
    "gru.compile(loss='categorical_crossentropy', optimizer='adam', metrics=['AUC'])\n",
    "\n",
    "# Impresión de la arquitectura de la red neuronal\n",
    "gru.summary()"
   ]
  },
  {
   "cell_type": "code",
   "execution_count": null,
   "metadata": {
    "id": "5-Twr2I67Bok"
   },
   "outputs": [],
   "source": [
    "# Entrenamiento de la red neuronal usando el set de entrenamiento\n",
    "gru.fit(XTrain2, yTrain2, validation_data=(XTest2, yTest2), \n",
    "          batch_size=64, epochs=10, verbose=1,\n",
    "          callbacks=[PlotLossesKeras()])\n",
    "ypredLSTM = gru.predict(XTest2)\n",
    "ypredTrLSTM = gru.predict(XTrain2)"
   ]
  },
  {
   "cell_type": "code",
   "execution_count": null,
   "metadata": {
    "id": "rUrC9aoJ7BrL"
   },
   "outputs": [],
   "source": []
  },
  {
   "cell_type": "markdown",
   "metadata": {
    "id": "flKQECIokTJe"
   },
   "source": [
    "# ENTRENAMIENTO"
   ]
  },
  {
   "cell_type": "code",
   "execution_count": null,
   "metadata": {
    "colab": {
     "base_uri": "https://localhost:8080/"
    },
    "executionInfo": {
     "elapsed": 12720,
     "status": "ok",
     "timestamp": 1684713291449,
     "user": {
      "displayName": "Oscar Andres Patino Patarroyo",
      "userId": "14256463387961091998"
     },
     "user_tz": 300
    },
    "id": "jT9pheFWtD3b",
    "outputId": "bfd261d8-9293-46b0-e267-bc5e5faf6c43"
   },
   "outputs": [
    {
     "name": "stdout",
     "output_type": "stream",
     "text": [
      "Found GPU at: /device:GPU:0\n"
     ]
    }
   ],
   "source": [
    "# verify GPU availability\n",
    "import tensorflow as tf\n",
    "\n",
    "device_name = tf.test.gpu_device_name()\n",
    "if device_name != '/device:GPU:0':\n",
    "  raise SystemError('GPU device not found')\n",
    "print('Found GPU at: {}'.format(device_name))"
   ]
  },
  {
   "cell_type": "code",
   "execution_count": null,
   "metadata": {
    "id": "HWdRStgUwJsW"
   },
   "outputs": [],
   "source": [
    "!pip install pytorch-pretrained-bert pytorch-nlp\n",
    "!pip install Keras-Preprocessing"
   ]
  },
  {
   "cell_type": "code",
   "execution_count": null,
   "metadata": {
    "colab": {
     "base_uri": "https://localhost:8080/",
     "height": 35
    },
    "executionInfo": {
     "elapsed": 5815,
     "status": "ok",
     "timestamp": 1684713597557,
     "user": {
      "displayName": "Oscar Andres Patino Patarroyo",
      "userId": "14256463387961091998"
     },
     "user_tz": 300
    },
    "id": "TWpOjOODvf9b",
    "outputId": "5e1a7317-d2ae-41db-c231-e2a024ef2d26"
   },
   "outputs": [
    {
     "data": {
      "application/vnd.google.colaboratory.intrinsic+json": {
       "type": "string"
      },
      "text/plain": [
       "'Tesla T4'"
      ]
     },
     "execution_count": 27,
     "metadata": {},
     "output_type": "execute_result"
    }
   ],
   "source": [
    "# BERT imports\n",
    "import torch\n",
    "from torch.utils.data import TensorDataset, DataLoader, RandomSampler, SequentialSampler\n",
    "from keras_preprocessing.sequence import pad_sequences\n",
    "from sklearn.model_selection import train_test_split\n",
    "from pytorch_pretrained_bert import BertTokenizer, BertConfig\n",
    "from pytorch_pretrained_bert import BertAdam, BertForSequenceClassification\n",
    "from tqdm import tqdm, trange\n",
    "import io\n",
    "\n",
    "# specify GPU device\n",
    "device = torch.device(\"cuda\" if torch.cuda.is_available() else \"cpu\")\n",
    "n_gpu = torch.cuda.device_count()\n",
    "torch.cuda.get_device_name(0)"
   ]
  },
  {
   "cell_type": "markdown",
   "metadata": {
    "id": "TuEe6sb_kTJl"
   },
   "source": [
    "## Modelo BERT"
   ]
  },
  {
   "cell_type": "code",
   "execution_count": null,
   "metadata": {
    "colab": {
     "base_uri": "https://localhost:8080/"
    },
    "executionInfo": {
     "elapsed": 17234,
     "status": "ok",
     "timestamp": 1684713366318,
     "user": {
      "displayName": "Oscar Andres Patino Patarroyo",
      "userId": "14256463387961091998"
     },
     "user_tz": 300
    },
    "id": "VxSkl0URlypJ",
    "outputId": "2dfa61d0-697f-4549-a18a-52284f10b2d2"
   },
   "outputs": [
    {
     "name": "stdout",
     "output_type": "stream",
     "text": [
      "Looking in indexes: https://pypi.org/simple, https://us-python.pkg.dev/colab-wheels/public/simple/\n",
      "Collecting transformers\n",
      "  Downloading transformers-4.29.2-py3-none-any.whl (7.1 MB)\n",
      "\u001b[2K     \u001b[90m━━━━━━━━━━━━━━━━━━━━━━━━━━━━━━━━━━━━━━━━\u001b[0m \u001b[32m7.1/7.1 MB\u001b[0m \u001b[31m55.6 MB/s\u001b[0m eta \u001b[36m0:00:00\u001b[0m\n",
      "\u001b[?25hRequirement already satisfied: filelock in /usr/local/lib/python3.10/dist-packages (from transformers) (3.12.0)\n",
      "Collecting huggingface-hub<1.0,>=0.14.1 (from transformers)\n",
      "  Downloading huggingface_hub-0.14.1-py3-none-any.whl (224 kB)\n",
      "\u001b[2K     \u001b[90m━━━━━━━━━━━━━━━━━━━━━━━━━━━━━━━━━━━━━━\u001b[0m \u001b[32m224.5/224.5 kB\u001b[0m \u001b[31m22.0 MB/s\u001b[0m eta \u001b[36m0:00:00\u001b[0m\n",
      "\u001b[?25hRequirement already satisfied: numpy>=1.17 in /usr/local/lib/python3.10/dist-packages (from transformers) (1.22.4)\n",
      "Requirement already satisfied: packaging>=20.0 in /usr/local/lib/python3.10/dist-packages (from transformers) (23.1)\n",
      "Requirement already satisfied: pyyaml>=5.1 in /usr/local/lib/python3.10/dist-packages (from transformers) (6.0)\n",
      "Requirement already satisfied: regex!=2019.12.17 in /usr/local/lib/python3.10/dist-packages (from transformers) (2022.10.31)\n",
      "Requirement already satisfied: requests in /usr/local/lib/python3.10/dist-packages (from transformers) (2.27.1)\n",
      "Collecting tokenizers!=0.11.3,<0.14,>=0.11.1 (from transformers)\n",
      "  Downloading tokenizers-0.13.3-cp310-cp310-manylinux_2_17_x86_64.manylinux2014_x86_64.whl (7.8 MB)\n",
      "\u001b[2K     \u001b[90m━━━━━━━━━━━━━━━━━━━━━━━━━━━━━━━━━━━━━━━━\u001b[0m \u001b[32m7.8/7.8 MB\u001b[0m \u001b[31m71.5 MB/s\u001b[0m eta \u001b[36m0:00:00\u001b[0m\n",
      "\u001b[?25hRequirement already satisfied: tqdm>=4.27 in /usr/local/lib/python3.10/dist-packages (from transformers) (4.65.0)\n",
      "Requirement already satisfied: fsspec in /usr/local/lib/python3.10/dist-packages (from huggingface-hub<1.0,>=0.14.1->transformers) (2023.4.0)\n",
      "Requirement already satisfied: typing-extensions>=3.7.4.3 in /usr/local/lib/python3.10/dist-packages (from huggingface-hub<1.0,>=0.14.1->transformers) (4.5.0)\n",
      "Requirement already satisfied: urllib3<1.27,>=1.21.1 in /usr/local/lib/python3.10/dist-packages (from requests->transformers) (1.26.15)\n",
      "Requirement already satisfied: certifi>=2017.4.17 in /usr/local/lib/python3.10/dist-packages (from requests->transformers) (2022.12.7)\n",
      "Requirement already satisfied: charset-normalizer~=2.0.0 in /usr/local/lib/python3.10/dist-packages (from requests->transformers) (2.0.12)\n",
      "Requirement already satisfied: idna<4,>=2.5 in /usr/local/lib/python3.10/dist-packages (from requests->transformers) (3.4)\n",
      "Installing collected packages: tokenizers, huggingface-hub, transformers\n",
      "Successfully installed huggingface-hub-0.14.1 tokenizers-0.13.3 transformers-4.29.2\n"
     ]
    }
   ],
   "source": [
    "pip install transformers"
   ]
  },
  {
   "cell_type": "code",
   "execution_count": null,
   "metadata": {
    "id": "w1CDCVDikTJm"
   },
   "outputs": [],
   "source": [
    "from transformers import BertTokenizer, BertForSequenceClassification"
   ]
  },
  {
   "cell_type": "code",
   "execution_count": null,
   "metadata": {
    "id": "DiaT15qSkTJn"
   },
   "outputs": [],
   "source": [
    "# Cargar el modelo pre-entrenado y el tokenizador de BERT\n",
    "model_name = 'bert-base-uncased'\n",
    "tokenizer = BertTokenizer.from_pretrained(model_name)\n",
    "model = BertForSequenceClassification.from_pretrained(model_name, num_labels=10)  # Aquí se asume que hay 10 géneros de películas\n",
    "\n",
    "# Sinopsis de ejemplo\n",
    "sinopsis = \"Un grupo de amigos se aventura en una emocionante búsqueda para encontrar un tesoro escondido.\"\n",
    "\n",
    "# Preprocesamiento de la sinopsis\n",
    "tokens = tokenizer.encode_plus(\n",
    "    sinopsis,\n",
    "    None,\n",
    "    add_special_tokens=True,\n",
    "    max_length=128,  # Ajusta la longitud máxima según tus necesidades\n",
    "    padding='max_length',\n",
    "    truncation=True,\n",
    "    return_token_type_ids=False,\n",
    "    return_attention_mask=True,\n",
    "    return_tensors='pt'  # Devuelve tensores de PyTorch\n",
    ")\n",
    "\n",
    "# Pasar los tensores a través del modelo\n",
    "outputs = model(input_ids=tokens['input_ids'], attention_mask=tokens['attention_mask'])\n",
    "\n",
    "# Obtener las predicciones de género\n",
    "predictions = outputs.logits.argmax(dim=1).item()\n",
    "\n",
    "# Mapeo de los índices de género a etiquetas de texto\n",
    "genre_labels = ['Acción', 'Aventura', 'Comedia', 'Drama', 'Fantasía', 'Horror', 'Romance', 'Ciencia ficción', 'Suspense', 'Western']\n",
    "predicted_genre = genre_labels[predictions]\n",
    "\n",
    "# Imprimir el género predicho\n",
    "print(\"Género predicho:\", predicted_genre)"
   ]
  },
  {
   "cell_type": "code",
   "execution_count": null,
   "metadata": {
    "id": "QGRHQiz8jtwr"
   },
   "outputs": [],
   "source": [
    "train_data.to_list()"
   ]
  },
  {
   "cell_type": "code",
   "execution_count": null,
   "metadata": {
    "colab": {
     "base_uri": "https://localhost:8080/"
    },
    "executionInfo": {
     "elapsed": 4778,
     "status": "ok",
     "timestamp": 1684729364864,
     "user": {
      "displayName": "Oscar Andres Patino Patarroyo",
      "userId": "14256463387961091998"
     },
     "user_tz": 300
    },
    "id": "Yiv3oyjfkTJq",
    "outputId": "71e22b15-419a-4843-9dcc-6b35e67efd88"
   },
   "outputs": [
    {
     "name": "stderr",
     "output_type": "stream",
     "text": [
      "Some weights of the model checkpoint at bert-base-uncased were not used when initializing BertForSequenceClassification: ['cls.predictions.bias', 'cls.predictions.transform.dense.weight', 'cls.predictions.decoder.weight', 'cls.predictions.transform.LayerNorm.weight', 'cls.predictions.transform.LayerNorm.bias', 'cls.predictions.transform.dense.bias', 'cls.seq_relationship.bias', 'cls.seq_relationship.weight']\n",
      "- This IS expected if you are initializing BertForSequenceClassification from the checkpoint of a model trained on another task or with another architecture (e.g. initializing a BertForSequenceClassification model from a BertForPreTraining model).\n",
      "- This IS NOT expected if you are initializing BertForSequenceClassification from the checkpoint of a model that you expect to be exactly identical (initializing a BertForSequenceClassification model from a BertForSequenceClassification model).\n",
      "Some weights of BertForSequenceClassification were not initialized from the model checkpoint at bert-base-uncased and are newly initialized: ['classifier.weight', 'classifier.bias']\n",
      "You should probably TRAIN this model on a down-stream task to be able to use it for predictions and inference.\n"
     ]
    }
   ],
   "source": [
    "# Cargar el modelo pre-entrenado y el tokenizador de BERT\n",
    "model_name = 'bert-base-uncased'\n",
    "tokenizer = BertTokenizer.from_pretrained(model_name)\n",
    "model = BertForSequenceClassification.from_pretrained(model_name, num_labels=24)  # Aquí se asume que hay 10 géneros de películas\n",
    "\n",
    "# Preprocesamiento de la sinopsis\n",
    "tokens = tokenizer.encode_plus(\n",
    "    train_data.to_list(),\n",
    "    None,\n",
    "    add_special_tokens=True,\n",
    "    max_length=512,  # Ajusta la longitud máxima según tus necesidades\n",
    "    padding='max_length',\n",
    "    truncation=True,\n",
    "    return_token_type_ids=False,\n",
    "    return_attention_mask=True,\n",
    "    return_tensors='pt'  # Devuelve tensores de PyTorch\n",
    ")\n",
    "\n",
    "# Pasar los tensores a través del modelo\n",
    "outputs = model(input_ids=tokens['input_ids'], attention_mask=tokens['attention_mask'])\n",
    "\n",
    "# Obtener las predicciones de género\n",
    "predictions = outputs.logits.argmax(dim=1).item()\n",
    "\n",
    "# Mapeo de los índices de género a etiquetas de texto\n",
    "#genre_labels = dataTraining['genres']\n",
    "#predicted_genre = genre_labels[predictions]\n",
    "#print(\"Género predicho:\", predicted_genre)"
   ]
  },
  {
   "cell_type": "code",
   "execution_count": null,
   "metadata": {
    "colab": {
     "base_uri": "https://localhost:8080/"
    },
    "executionInfo": {
     "elapsed": 27,
     "status": "ok",
     "timestamp": 1684729364865,
     "user": {
      "displayName": "Oscar Andres Patino Patarroyo",
      "userId": "14256463387961091998"
     },
     "user_tz": 300
    },
    "id": "Of8hE97OkDth",
    "outputId": "c3124059-d76c-4998-c5f9-6b0b423405fd"
   },
   "outputs": [
    {
     "name": "stdout",
     "output_type": "stream",
     "text": [
      "Género predicho: ['Crime', 'Drama', 'Thriller']\n"
     ]
    }
   ],
   "source": [
    "genre_labels = dataTraining['genres']\n",
    "predicted_genre = genre_labels[predictions]\n",
    "print(\"Género predicho:\", predicted_genre)"
   ]
  },
  {
   "cell_type": "code",
   "execution_count": null,
   "metadata": {
    "id": "_gAaPKw2kTJr"
   },
   "outputs": [],
   "source": [
    "pip install transformers"
   ]
  },
  {
   "cell_type": "code",
   "execution_count": null,
   "metadata": {
    "id": "KAzsHArJkTJs"
   },
   "outputs": [],
   "source": [
    "import tensorflow as tf\n",
    "from transformers import BertTokenizer, TFBertModel, TFAutoModel\n",
    "from sklearn.model_selection import train_test_split\n",
    "from sklearn.metrics import classification_report"
   ]
  },
  {
   "cell_type": "code",
   "execution_count": null,
   "metadata": {
    "id": "P74l_xMFkTJt"
   },
   "outputs": [],
   "source": [
    "train_data, test_data, train_labels, test_labels = train_test_split(dataTraining['plot'], y_genres, test_size=0.2, random_state=42)"
   ]
  },
  {
   "cell_type": "code",
   "execution_count": null,
   "metadata": {
    "colab": {
     "base_uri": "https://localhost:8080/"
    },
    "executionInfo": {
     "elapsed": 2436,
     "status": "ok",
     "timestamp": 1684731444628,
     "user": {
      "displayName": "Oscar Andres Patino Patarroyo",
      "userId": "14256463387961091998"
     },
     "user_tz": 300
    },
    "id": "-6Wq_4BfcHqb",
    "outputId": "04849a25-e7b2-4811-95e1-93528124ecf3"
   },
   "outputs": [
    {
     "name": "stderr",
     "output_type": "stream",
     "text": [
      "Some layers from the model checkpoint at bert-base-uncased were not used when initializing TFBertModel: ['mlm___cls', 'nsp___cls']\n",
      "- This IS expected if you are initializing TFBertModel from the checkpoint of a model trained on another task or with another architecture (e.g. initializing a BertForSequenceClassification model from a BertForPreTraining model).\n",
      "- This IS NOT expected if you are initializing TFBertModel from the checkpoint of a model that you expect to be exactly identical (initializing a BertForSequenceClassification model from a BertForSequenceClassification model).\n",
      "All the layers of TFBertModel were initialized from the model checkpoint at bert-base-uncased.\n",
      "If your task is similar to the task the model of the checkpoint was trained on, you can already use TFBertModel for predictions without further training.\n"
     ]
    }
   ],
   "source": [
    "tokenizer = BertTokenizer.from_pretrained('bert-base-uncased')\n",
    "#model = TFBertModel.from_pretrained('bert-base-uncased')\n",
    "model = TFAutoModel.from_pretrained('bert-base-uncased')"
   ]
  },
  {
   "cell_type": "code",
   "execution_count": null,
   "metadata": {
    "id": "A_EGmBV2cH9a"
   },
   "outputs": [],
   "source": [
    "train_encodings = tokenizer.batch_encode_plus(\n",
    "    train_data, truncation=True, padding=True, max_length=512)\n",
    "test_encodings = tokenizer.batch_encode_plus(\n",
    "    test_data, truncation=True, padding=True, max_length=512)"
   ]
  },
  {
   "cell_type": "code",
   "execution_count": null,
   "metadata": {
    "colab": {
     "base_uri": "https://localhost:8080/"
    },
    "executionInfo": {
     "elapsed": 39,
     "status": "ok",
     "timestamp": 1684731470856,
     "user": {
      "displayName": "Oscar Andres Patino Patarroyo",
      "userId": "14256463387961091998"
     },
     "user_tz": 300
    },
    "id": "nmPaPD1Rds41",
    "outputId": "07d73e31-346f-41e7-b7bd-6017a569148b"
   },
   "outputs": [
    {
     "data": {
      "text/plain": [
       "3107                                       [Short, Drama]\n",
       "900                               [Comedy, Crime, Horror]\n",
       "6724                         [Drama, Film-Noir, Thriller]\n",
       "4704                                              [Drama]\n",
       "2582                            [Action, Crime, Thriller]\n",
       "                              ...                        \n",
       "8417                                    [Comedy, Romance]\n",
       "1592                         [Action, Adventure, Fantasy]\n",
       "1723       [Adventure, Musical, Fantasy, Comedy, Romance]\n",
       "7605    [Animation, Adventure, Drama, Family, Fantasy,...\n",
       "215               [Animation, Adventure, Family, Fantasy]\n",
       "Name: genres, Length: 7895, dtype: object"
      ]
     },
     "execution_count": 95,
     "metadata": {},
     "output_type": "execute_result"
    }
   ],
   "source": [
    "dataTraining['genres']"
   ]
  },
  {
   "cell_type": "code",
   "execution_count": null,
   "metadata": {
    "id": "Lkrl9q-NcIBv"
   },
   "outputs": [],
   "source": [
    "train_dataset = tf.data.Dataset.from_tensor_slices((\n",
    "    dict(train_encodings),\n",
    "    tf.keras.utils.to_categorical(train_labels, num_classes=24)))\n",
    "test_dataset = tf.data.Dataset.from_tensor_slices((\n",
    "    dict(test_encodings),\n",
    "    tf.keras.utils.to_categorical(test_labels, num_classes=24)))"
   ]
  },
  {
   "cell_type": "code",
   "execution_count": null,
   "metadata": {
    "id": "z2lPhdYPhfJP"
   },
   "outputs": [],
   "source": [
    "help(TFBertModel)"
   ]
  },
  {
   "cell_type": "code",
   "execution_count": null,
   "metadata": {
    "id": "qfmyMeukcofW"
   },
   "outputs": [],
   "source": [
    "input_ids = tf.keras.Input(shape=(512,), dtype=tf.int32)\n",
    "attention_mask = tf.keras.Input(shape=(512,), dtype=tf.int32)\n",
    "\n",
    "output = model(input_ids=input_ids, attention_mask=attention_mask)[0]\n",
    "output = tf.keras.layers.GlobalMaxPool1D()(output)\n",
    "output = tf.keras.layers.Dense(24, activation='softmax')(output)\n",
    "\n",
    "model = tf.keras.Model(inputs=[input_ids, attention_mask], outputs=output)\n",
    "model.compile(optimizer=tf.keras.optimizers.Adam(learning_rate=1e-5),\n",
    "              loss='categorical_crossentropy',\n",
    "              metrics=['AUC'])"
   ]
  },
  {
   "cell_type": "code",
   "execution_count": null,
   "metadata": {
    "colab": {
     "base_uri": "https://localhost:8080/",
     "height": 588
    },
    "executionInfo": {
     "elapsed": 21,
     "status": "error",
     "timestamp": 1684731490329,
     "user": {
      "displayName": "Oscar Andres Patino Patarroyo",
      "userId": "14256463387961091998"
     },
     "user_tz": 300
    },
    "id": "ZERpQ_gHfLaR",
    "outputId": "d8503881-1fc5-476c-f37b-0b9980f01af7"
   },
   "outputs": [
    {
     "name": "stdout",
     "output_type": "stream",
     "text": [
      "Epoch 1/3\n"
     ]
    },
    {
     "ename": "ValueError",
     "evalue": "ignored",
     "output_type": "error",
     "traceback": [
      "\u001b[0;31m---------------------------------------------------------------------------\u001b[0m",
      "\u001b[0;31mValueError\u001b[0m                                Traceback (most recent call last)",
      "\u001b[0;32m<ipython-input-98-f705cb4c0e3d>\u001b[0m in \u001b[0;36m<cell line: 1>\u001b[0;34m()\u001b[0m\n\u001b[0;32m----> 1\u001b[0;31m \u001b[0mmodel\u001b[0m\u001b[0;34m.\u001b[0m\u001b[0mfit\u001b[0m\u001b[0;34m(\u001b[0m\u001b[0mtrain_dataset\u001b[0m\u001b[0;34m.\u001b[0m\u001b[0mshuffle\u001b[0m\u001b[0;34m(\u001b[0m\u001b[0;36m1000\u001b[0m\u001b[0;34m)\u001b[0m\u001b[0;34m.\u001b[0m\u001b[0mbatch\u001b[0m\u001b[0;34m(\u001b[0m\u001b[0;36m16\u001b[0m\u001b[0;34m)\u001b[0m\u001b[0;34m,\u001b[0m\u001b[0mepochs\u001b[0m\u001b[0;34m=\u001b[0m\u001b[0;36m3\u001b[0m\u001b[0;34m,\u001b[0m\u001b[0mbatch_size\u001b[0m\u001b[0;34m=\u001b[0m\u001b[0;36m16\u001b[0m\u001b[0;34m)\u001b[0m\u001b[0;34m\u001b[0m\u001b[0;34m\u001b[0m\u001b[0m\n\u001b[0m",
      "\u001b[0;32m/usr/local/lib/python3.10/dist-packages/keras/utils/traceback_utils.py\u001b[0m in \u001b[0;36merror_handler\u001b[0;34m(*args, **kwargs)\u001b[0m\n\u001b[1;32m     68\u001b[0m             \u001b[0;31m# To get the full stack trace, call:\u001b[0m\u001b[0;34m\u001b[0m\u001b[0;34m\u001b[0m\u001b[0m\n\u001b[1;32m     69\u001b[0m             \u001b[0;31m# `tf.debugging.disable_traceback_filtering()`\u001b[0m\u001b[0;34m\u001b[0m\u001b[0;34m\u001b[0m\u001b[0m\n\u001b[0;32m---> 70\u001b[0;31m             \u001b[0;32mraise\u001b[0m \u001b[0me\u001b[0m\u001b[0;34m.\u001b[0m\u001b[0mwith_traceback\u001b[0m\u001b[0;34m(\u001b[0m\u001b[0mfiltered_tb\u001b[0m\u001b[0;34m)\u001b[0m \u001b[0;32mfrom\u001b[0m \u001b[0;32mNone\u001b[0m\u001b[0;34m\u001b[0m\u001b[0;34m\u001b[0m\u001b[0m\n\u001b[0m\u001b[1;32m     71\u001b[0m         \u001b[0;32mfinally\u001b[0m\u001b[0;34m:\u001b[0m\u001b[0;34m\u001b[0m\u001b[0;34m\u001b[0m\u001b[0m\n\u001b[1;32m     72\u001b[0m             \u001b[0;32mdel\u001b[0m \u001b[0mfiltered_tb\u001b[0m\u001b[0;34m\u001b[0m\u001b[0;34m\u001b[0m\u001b[0m\n",
      "\u001b[0;32m/usr/local/lib/python3.10/dist-packages/keras/engine/training.py\u001b[0m in \u001b[0;36mtf__train_function\u001b[0;34m(iterator)\u001b[0m\n\u001b[1;32m     13\u001b[0m                 \u001b[0;32mtry\u001b[0m\u001b[0;34m:\u001b[0m\u001b[0;34m\u001b[0m\u001b[0;34m\u001b[0m\u001b[0m\n\u001b[1;32m     14\u001b[0m                     \u001b[0mdo_return\u001b[0m \u001b[0;34m=\u001b[0m \u001b[0;32mTrue\u001b[0m\u001b[0;34m\u001b[0m\u001b[0;34m\u001b[0m\u001b[0m\n\u001b[0;32m---> 15\u001b[0;31m                     \u001b[0mretval_\u001b[0m \u001b[0;34m=\u001b[0m \u001b[0mag__\u001b[0m\u001b[0;34m.\u001b[0m\u001b[0mconverted_call\u001b[0m\u001b[0;34m(\u001b[0m\u001b[0mag__\u001b[0m\u001b[0;34m.\u001b[0m\u001b[0mld\u001b[0m\u001b[0;34m(\u001b[0m\u001b[0mstep_function\u001b[0m\u001b[0;34m)\u001b[0m\u001b[0;34m,\u001b[0m \u001b[0;34m(\u001b[0m\u001b[0mag__\u001b[0m\u001b[0;34m.\u001b[0m\u001b[0mld\u001b[0m\u001b[0;34m(\u001b[0m\u001b[0mself\u001b[0m\u001b[0;34m)\u001b[0m\u001b[0;34m,\u001b[0m \u001b[0mag__\u001b[0m\u001b[0;34m.\u001b[0m\u001b[0mld\u001b[0m\u001b[0;34m(\u001b[0m\u001b[0miterator\u001b[0m\u001b[0;34m)\u001b[0m\u001b[0;34m)\u001b[0m\u001b[0;34m,\u001b[0m \u001b[0;32mNone\u001b[0m\u001b[0;34m,\u001b[0m \u001b[0mfscope\u001b[0m\u001b[0;34m)\u001b[0m\u001b[0;34m\u001b[0m\u001b[0;34m\u001b[0m\u001b[0m\n\u001b[0m\u001b[1;32m     16\u001b[0m                 \u001b[0;32mexcept\u001b[0m\u001b[0;34m:\u001b[0m\u001b[0;34m\u001b[0m\u001b[0;34m\u001b[0m\u001b[0m\n\u001b[1;32m     17\u001b[0m                     \u001b[0mdo_return\u001b[0m \u001b[0;34m=\u001b[0m \u001b[0;32mFalse\u001b[0m\u001b[0;34m\u001b[0m\u001b[0;34m\u001b[0m\u001b[0m\n",
      "\u001b[0;31mValueError\u001b[0m: in user code:\n\n    File \"/usr/local/lib/python3.10/dist-packages/keras/engine/training.py\", line 1284, in train_function  *\n        return step_function(self, iterator)\n    File \"/usr/local/lib/python3.10/dist-packages/keras/engine/training.py\", line 1268, in step_function  **\n        outputs = model.distribute_strategy.run(run_step, args=(data,))\n    File \"/usr/local/lib/python3.10/dist-packages/keras/engine/training.py\", line 1249, in run_step  **\n        outputs = model.train_step(data)\n    File \"/usr/local/lib/python3.10/dist-packages/keras/engine/training.py\", line 1050, in train_step\n        y_pred = self(x, training=True)\n    File \"/usr/local/lib/python3.10/dist-packages/keras/utils/traceback_utils.py\", line 70, in error_handler\n        raise e.with_traceback(filtered_tb) from None\n    File \"/usr/local/lib/python3.10/dist-packages/keras/engine/input_spec.py\", line 197, in assert_input_compatibility\n        raise ValueError(\n\n    ValueError: Missing data for input \"input_27\". You passed a data dictionary with keys ['input_ids', 'token_type_ids', 'attention_mask']. Expected the following keys: ['input_27', 'input_28']\n"
     ]
    }
   ],
   "source": [
    "model.fit(train_dataset.shuffle(1000).batch(16),epochs=3,batch_size=16)"
   ]
  },
  {
   "cell_type": "code",
   "execution_count": null,
   "metadata": {
    "id": "jb8NiLk3cobT"
   },
   "outputs": [],
   "source": [
    "predictions = model.predict(test_dataset.batch(16)).argmax(axis=1)\n",
    "print(classification_report(test_labels, predictions))"
   ]
  },
  {
   "cell_type": "code",
   "execution_count": null,
   "metadata": {
    "id": "RajRbp1scoIS"
   },
   "outputs": [],
   "source": []
  },
  {
   "cell_type": "markdown",
   "metadata": {
    "id": "C4OIqP_lkTJu"
   },
   "source": [
    "# DISPONIBILIZACIÓN"
   ]
  },
  {
   "cell_type": "code",
   "execution_count": null,
   "metadata": {
    "id": "6rLw4LvNkTJx"
   },
   "outputs": [],
   "source": []
  }
 ],
 "metadata": {
  "accelerator": "GPU",
  "colab": {
   "gpuType": "T4",
   "provenance": [],
   "toc_visible": true
  },
  "gpuClass": "standard",
  "kernelspec": {
   "display_name": "Python 3 (ipykernel)",
   "language": "python",
   "name": "python3"
  },
  "language_info": {
   "codemirror_mode": {
    "name": "ipython",
    "version": 3
   },
   "file_extension": ".py",
   "mimetype": "text/x-python",
   "name": "python",
   "nbconvert_exporter": "python",
   "pygments_lexer": "ipython3",
   "version": "3.11.5"
  }
 },
 "nbformat": 4,
 "nbformat_minor": 1
}
